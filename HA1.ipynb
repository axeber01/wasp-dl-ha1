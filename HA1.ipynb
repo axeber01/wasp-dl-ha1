{
 "cells": [
  {
   "cell_type": "markdown",
   "metadata": {},
   "source": [
    "### Checklist for submission\n",
    "\n",
    "It is extremely important to make sure that:\n",
    "\n",
    "1. Everything runs as expected (no bugs when running cells);\n",
    "2. The output from each cell corresponds to its code (don't change any cell's contents without rerunning it afterwards);\n",
    "3. All outputs are present (don't delete any of the outputs);\n",
    "4. Fill in all the places that say `YOUR CODE HERE`, or \"**Your answer:** (fill in here)\".\n",
    "5. You **ONLY** change the parts of the code we asked you to, nowhere else (change only the coding parts saying `# YOUR CODE HERE`, nothing else);\n",
    "6. Don't add any new cells to this notebook;\n",
    "7. Fill in your group number and the full names of the members in the cell below;\n",
    "8. Make sure that you are not running an old version of IPython (we provide you with a cell that checks this, make sure you can run it without errors).\n",
    "\n",
    "Failing to meet any of these requirements might lead to a request for resubmission.\n",
    "\n",
    "We advise you the following steps before submission for ensuring that requirements 1, 2, and 3 are always met: **Restart the kernel** (in the menubar, select Kernel$\\rightarrow$Restart & Run All ). This might require a bit of time, so plan ahead for this. Finally press the \"Save and Checkpoint\" button before handing in, to make sure that all your changes are saved to this .ipynb file."
   ]
  },
  {
   "cell_type": "markdown",
   "metadata": {},
   "source": [
    "---\n",
    "\n",
    "Group number and member names:"
   ]
  },
  {
   "cell_type": "code",
   "execution_count": 1,
   "metadata": {},
   "outputs": [],
   "source": [
    "GROUP = \"\"\n",
    "NAME1 = \"Patrik Persson\"\n",
    "NAME2 = \"Axel Berg\""
   ]
  },
  {
   "cell_type": "markdown",
   "metadata": {},
   "source": [
    "Make sure you can run the following cell without errors."
   ]
  },
  {
   "cell_type": "code",
   "execution_count": 2,
   "metadata": {},
   "outputs": [],
   "source": [
    "import IPython\n",
    "assert IPython.version_info[0] >= 3, \"Your version of IPython is too old, please update it.\""
   ]
  },
  {
   "cell_type": "markdown",
   "metadata": {},
   "source": [
    "---"
   ]
  },
  {
   "cell_type": "markdown",
   "metadata": {},
   "source": [
    "# HA1 - Cats and dogs"
   ]
  },
  {
   "cell_type": "markdown",
   "metadata": {},
   "source": [
    "<img src=\"http://lghttp.32478.nexcesscdn.net/80E972/organiclifestylemagazine/wp-content/uploads/2015/10/Cats-and-Dogs.jpg\" alt=\"Cats and dogs\" style=\"width: 5000px;\"/>"
   ]
  },
  {
   "cell_type": "markdown",
   "metadata": {},
   "source": [
    "For this home assignment, we'll use the Kaggle dataset for the [Dogs vs. Cats competition](https://www.kaggle.com/c/dogs-vs-cats). It is comprised of 25k colored images of dogs and cats. Our goal with this dataset will be to create a classifier that can tell us if the input image is of a cat or a dog."
   ]
  },
  {
   "cell_type": "markdown",
   "metadata": {},
   "source": [
    "Requirements:\n",
    "- Whenever we ask you to plot anything, be sure to add a title and label the axes. If you're plotting more than one curve in the same plot, also add a legend.\n",
    "- When we ask you to train an architecture, train it for a reasonable number of epochs. \"Reasonable\" here means you should be fairly confident that training for a higher number of epochs wouldn't impact your conclusions regarding the model's performance.\n",
    "\n",
    "Tips:\n",
    "\n",
    "- Keras and GPU. Having a general set of instructions for all GPU platforms is tricky. The environment we have provided is configured for CPU. Usually it is enough to\n",
    "```pip install tensorflow-gpu```\n",
    "you can then list available GPU's by running:\n",
    "```\n",
    "from keras import backend\n",
    "backend.tensorflow_backend._get_available_gpus()\n",
    "```\n",
    "- Before starting, take a look at the images we'll be using. This is a hard task, don't get discouraged if your first models perform poorly (several participants in the original competition didn't achieve an accuracy higher than 60%)."
   ]
  },
  {
   "cell_type": "markdown",
   "metadata": {},
   "source": [
    "---\n",
    "## 0. Imports\n",
    "\n",
    "In the following cell, add all the imports you'll use in this assignment."
   ]
  },
  {
   "cell_type": "code",
   "execution_count": 48,
   "metadata": {},
   "outputs": [
    {
     "data": {
      "text/plain": [
       "['/job:localhost/replica:0/task:0/device:GPU:0']"
      ]
     },
     "execution_count": 48,
     "metadata": {},
     "output_type": "execute_result"
    }
   ],
   "source": [
    "# YOUR CODE HERE\n",
    "\n",
    "# YOUR CODE HERE\n",
    "import numpy as np\n",
    "import matplotlib.pyplot as plt\n",
    "import keras\n",
    "from keras.models import Model, Sequential\n",
    "from keras.layers import Input, Dense, Conv2D, Flatten, MaxPooling2D, Dropout, regularizers, BatchNormalization\n",
    "from keras import backend\n",
    "\n",
    "backend.tensorflow_backend._get_available_gpus()"
   ]
  },
  {
   "cell_type": "markdown",
   "metadata": {},
   "source": [
    "---\n",
    "## 1. Loading the data and preprocessing"
   ]
  },
  {
   "cell_type": "markdown",
   "metadata": {},
   "source": [
    "The first step is to head to the [Kaggle website for the cats and dogs competition](https://www.kaggle.com/c/dogs-vs-cats) and download the data from there. You should download both the test and train folders together in one zip file (by clicking the download all button). The split ratio between training and validation has not been made, you'll need to do it yourself. The `test.zip` file contains unlabeled data, so that participants in the contest are not able to train on this set.\n",
    "\n",
    "For this assignment you should use [data generators](https://keras.io/preprocessing/image/) to load the images to your CPU/GPU memory. Because of this, your folder structure for the data should conform to the folder structure expected by the data generators (i.e. the samples should be separated into one folder for each class). Furthermore, we ask you to first start with a smaller subset of the data (1/5 of the number of samples), in order to test different models faster.\n",
    "\n",
    "This means that you should create a folder structure that resembles the following (obviously, the folder names are up to you):\n",
    "\n",
    "\n",
    "         small_train             small_val                train                   val\n",
    "              |                      |                      |                      |\n",
    "              |                      |                      |                      |\n",
    "        -------------          -------------          -------------          -------------\n",
    "        |           |          |           |          |           |          |           |\n",
    "        |           |          |           |          |           |          |           |\n",
    "      Cats        Dogs       Cats        Dogs       Cats        Dogs       Cats        Dogs\n",
    "\n",
    "The `small_train` and `small_val` folders have the training and validation samples for your smaller subset of the data, while the `train` and `val` folders contain all the samples you extracted from Kaggle's `train.zip`. We provide you a notebook that shows how to achieve this (\"create_project_structure.ipynb\"), starting from the original `dogs-vs-cats.zip` file that you download from Kaggle. If you do use that notebook, we encourage you to understand how each step is being done, so you can generalize this knowledge to new datasets you'll encounter.\n",
    "\n",
    "We advise you to use 30% of the data as validation data in the smaller dataset. However, for the larger dataset, you should decide how to split between training and validation. Please specify your splits in the following cells."
   ]
  },
  {
   "cell_type": "markdown",
   "metadata": {},
   "source": [
    "For the larger subset, what was the training/validation split that you decided to use?"
   ]
  },
  {
   "cell_type": "markdown",
   "metadata": {},
   "source": [
    "**% Samples in the training set:**"
   ]
  },
  {
   "cell_type": "code",
   "execution_count": null,
   "metadata": {},
   "outputs": [],
   "source": [
    "# YOUR CODE HERE\n",
    "# 3500 training samples in small dataset"
   ]
  },
  {
   "cell_type": "markdown",
   "metadata": {},
   "source": [
    "**% Samples in the validation set:**"
   ]
  },
  {
   "cell_type": "code",
   "execution_count": null,
   "metadata": {},
   "outputs": [],
   "source": [
    "# YOUR CODE HERE\n",
    "# 1500 validation samples in small dataset"
   ]
  },
  {
   "cell_type": "markdown",
   "metadata": {},
   "source": [
    "Fill in the dataset paths (to be used later by your data generators):"
   ]
  },
  {
   "cell_type": "code",
   "execution_count": 2,
   "metadata": {},
   "outputs": [],
   "source": [
    "# YOUR CODE HERE\n",
    "train_path = 'train'\n",
    "small_train_path = 'small_train'\n",
    "val_path = 'val'\n",
    "small_val_path = 'small_val'"
   ]
  },
  {
   "cell_type": "markdown",
   "metadata": {},
   "source": [
    "Once you have the expected folder structure, create two data generators for automatically generating batches from the images in your smaller subset of data. Don't use any [data augmentation](https://cartesianfaith.com/2016/10/06/what-you-need-to-know-about-data-augmentation-for-machine-learning/), but feel free to preprocess the data as you see fit. After instantiating them, run the `flow_from_directory` method with the desired arguments.\n",
    "\n",
    "Hints:\n",
    "- `flow_from_directory` infers the classes from the subdirectory names we have created.\n",
    "  For a generator to be able to find test images, it needs a similar structure, e.g. 'test/test/an_image.jpg' \n",
    "- The specified `batch_size` should be chosen so that your don't run out of memory.\n",
    "- When feeding the images to your CNN, you'll probably want all of them to have the same spatial size, even though the .jpeg files differ in this. If so, take a look at the argument `target_size` for the `flow_from_directory` method of data generators.\n",
    "- Resizing the images to a smaller size while loading them can be beneficial."
   ]
  },
  {
   "cell_type": "code",
   "execution_count": 49,
   "metadata": {},
   "outputs": [
    {
     "name": "stdout",
     "output_type": "stream",
     "text": [
      "Found 3500 images belonging to 2 classes.\n",
      "Found 1500 images belonging to 2 classes.\n"
     ]
    }
   ],
   "source": [
    "# YOUR CODE HERE\n",
    "train_datagen = keras.preprocessing.image.ImageDataGenerator()\n",
    "val_datagen = keras.preprocessing.image.ImageDataGenerator()\n",
    "\n",
    "input_size = (224,224)\n",
    "train_generator = train_datagen.flow_from_directory(\n",
    "        directory=small_train_path,\n",
    "        target_size=input_size,\n",
    "        batch_size=64,\n",
    "        class_mode='categorical', \n",
    "        seed=0,\n",
    "        shuffle=True)\n",
    "\n",
    "validation_generator = val_datagen.flow_from_directory(\n",
    "        small_val_path,\n",
    "        target_size=input_size,\n",
    "        batch_size=64,\n",
    "        class_mode='categorical',\n",
    "        shuffle=True)"
   ]
  },
  {
   "cell_type": "markdown",
   "metadata": {},
   "source": [
    "---\n",
    "## 2. Training"
   ]
  },
  {
   "cell_type": "markdown",
   "metadata": {},
   "source": [
    "Create your first CNN architecture for this task. Start with something as simple as possible, that you're almost sure can get an accuracy better than 50% (we'll improve upon it later).\n",
    "\n",
    "Tip:\n",
    "- If Tensorflow is your backend, your `input_shape` is always `(img_width, img_height, 3)` (i.e. channels **last**)"
   ]
  },
  {
   "cell_type": "code",
   "execution_count": 4,
   "metadata": {},
   "outputs": [
    {
     "name": "stdout",
     "output_type": "stream",
     "text": [
      "WARNING:tensorflow:From /home/patrik/anaconda3/envs/dml/lib/python3.6/site-packages/tensorflow/python/framework/op_def_library.py:263: colocate_with (from tensorflow.python.framework.ops) is deprecated and will be removed in a future version.\n",
      "Instructions for updating:\n",
      "Colocations handled automatically by placer.\n",
      "_________________________________________________________________\n",
      "Layer (type)                 Output Shape              Param #   \n",
      "=================================================================\n",
      "conv2d_1 (Conv2D)            (None, 61, 61, 16)        3088      \n",
      "_________________________________________________________________\n",
      "max_pooling2d_1 (MaxPooling2 (None, 30, 30, 16)        0         \n",
      "_________________________________________________________________\n",
      "conv2d_2 (Conv2D)            (None, 14, 14, 32)        8224      \n",
      "_________________________________________________________________\n",
      "max_pooling2d_2 (MaxPooling2 (None, 7, 7, 32)          0         \n",
      "_________________________________________________________________\n",
      "conv2d_3 (Conv2D)            (None, 4, 4, 64)          32832     \n",
      "_________________________________________________________________\n",
      "max_pooling2d_3 (MaxPooling2 (None, 2, 2, 64)          0         \n",
      "_________________________________________________________________\n",
      "conv2d_4 (Conv2D)            (None, 1, 1, 128)         32896     \n",
      "_________________________________________________________________\n",
      "flatten_1 (Flatten)          (None, 128)               0         \n",
      "_________________________________________________________________\n",
      "dense_1 (Dense)              (None, 100)               12900     \n",
      "_________________________________________________________________\n",
      "dense_2 (Dense)              (None, 2)                 202       \n",
      "=================================================================\n",
      "Total params: 90,142\n",
      "Trainable params: 90,142\n",
      "Non-trainable params: 0\n",
      "_________________________________________________________________\n"
     ]
    }
   ],
   "source": [
    "# YOUR CODE HERE\n",
    "model = Sequential()\n",
    "model.add(Conv2D(16, kernel_size=8, strides=2, activation='relu', input_shape=(input_size[0], input_size[1], 3)))\n",
    "model.add(MaxPooling2D(pool_size=(2, 2)))\n",
    "model.add(Conv2D(32, kernel_size=4, strides=2, activation='relu'))\n",
    "model.add(MaxPooling2D(pool_size=(2, 2)))\n",
    "model.add(Conv2D(64, kernel_size=4, strides=1, activation='relu'))\n",
    "model.add(MaxPooling2D(pool_size=(2, 2)))\n",
    "model.add(Conv2D(128, kernel_size=2, strides=1, activation='relu'))\n",
    "model.add(Flatten())\n",
    "model.add(Dense(100, activation='relu'))\n",
    "model.add(Dense(2, activation='softmax'))\n",
    "\n",
    "opt = keras.optimizers.Adam(lr=1e-4)\n",
    "model.compile(optimizer=opt, loss='categorical_crossentropy', metrics=['accuracy'])\n",
    "\n",
    "model.summary()"
   ]
  },
  {
   "cell_type": "markdown",
   "metadata": {},
   "source": [
    "Train your model using the `fit_generator` method and the two data generators you created earlier. Train for a reasonable amount of epochs, so as to get a good sense of how well this architecture performs.\n",
    "\n",
    "Tips:\n",
    "- Usually the bottleneck is when loading the images from the disk. To speed up training, make sure to take a look at the arguments `workers` and `use_multiprocessing` of `fit_generator`.\n",
    "- You don't have to set the argument `steps_per_epoch` to the number of batches in an epoch. Instead, you can choose a lower number to obtain more frequent prints about the current loss and accuracy of your model (but then have in mind that you're not actually training for the number of epochs you specify in `epochs`)."
   ]
  },
  {
   "cell_type": "code",
   "execution_count": 5,
   "metadata": {},
   "outputs": [
    {
     "name": "stdout",
     "output_type": "stream",
     "text": [
      "WARNING:tensorflow:From /home/patrik/anaconda3/envs/dml/lib/python3.6/site-packages/tensorflow/python/ops/math_ops.py:3066: to_int32 (from tensorflow.python.ops.math_ops) is deprecated and will be removed in a future version.\n",
      "Instructions for updating:\n",
      "Use tf.cast instead.\n",
      "Epoch 1/10\n"
     ]
    },
    {
     "name": "stderr",
     "output_type": "stream",
     "text": [
      "/home/patrik/anaconda3/envs/dml/lib/python3.6/site-packages/keras/engine/training_generator.py:47: UserWarning: Using a generator with `use_multiprocessing=True` and multiple workers may duplicate your data. Please consider using the`keras.utils.Sequence class.\n",
      "  UserWarning('Using a generator with `use_multiprocessing=True`'\n"
     ]
    },
    {
     "name": "stdout",
     "output_type": "stream",
     "text": [
      "55/55 [==============================] - 8s 140ms/step - loss: 1.3089 - acc: 0.5457 - val_loss: 1.0331 - val_acc: 0.5432\n",
      "Epoch 2/10\n",
      "55/55 [==============================] - 5s 100ms/step - loss: 0.7657 - acc: 0.6065 - val_loss: 0.7868 - val_acc: 0.5866\n",
      "Epoch 3/10\n",
      "55/55 [==============================] - 6s 110ms/step - loss: 0.6683 - acc: 0.6469 - val_loss: 0.7520 - val_acc: 0.5960\n",
      "Epoch 4/10\n",
      "55/55 [==============================] - 6s 114ms/step - loss: 0.5742 - acc: 0.7128 - val_loss: 0.8007 - val_acc: 0.6059\n",
      "Epoch 5/10\n",
      "55/55 [==============================] - 6s 105ms/step - loss: 0.5926 - acc: 0.7122 - val_loss: 0.7610 - val_acc: 0.6095\n",
      "Epoch 6/10\n",
      "55/55 [==============================] - 6s 111ms/step - loss: 0.5189 - acc: 0.7554 - val_loss: 0.8159 - val_acc: 0.6122\n",
      "Epoch 7/10\n",
      "55/55 [==============================] - 6s 107ms/step - loss: 0.5349 - acc: 0.7401 - val_loss: 0.7315 - val_acc: 0.6315\n",
      "Epoch 8/10\n",
      "55/55 [==============================] - 6s 107ms/step - loss: 0.5621 - acc: 0.6955 - val_loss: 0.7477 - val_acc: 0.6216\n",
      "Epoch 9/10\n",
      "55/55 [==============================] - 6s 105ms/step - loss: 0.5147 - acc: 0.7540 - val_loss: 0.7157 - val_acc: 0.6392\n",
      "Epoch 10/10\n",
      "55/55 [==============================] - 6s 104ms/step - loss: 0.4754 - acc: 0.7765 - val_loss: 0.8478 - val_acc: 0.5893\n"
     ]
    }
   ],
   "source": [
    "# YOUR CODE HERE\n",
    "\n",
    "np.random.seed(0)\n",
    "\n",
    "steps_per_epoch = np.ceil(len(train_generator.filenames) / train_generator.batch_size);\n",
    "history = model.fit_generator(\n",
    "    train_generator,\n",
    "    steps_per_epoch=steps_per_epoch,\n",
    "    epochs=10,\n",
    "    shuffle=True,\n",
    "    use_multiprocessing=True,\n",
    "    workers=10,\n",
    "    validation_data=validation_generator,\n",
    "    validation_steps=steps_per_epoch)"
   ]
  },
  {
   "cell_type": "markdown",
   "metadata": {},
   "source": [
    "Create one figure with two axes. In one of them, plot the loss in the training and the validation datasets. In the other one, plot the accuracy in the training and validation datasets.\n",
    "\n",
    "Hint:\n",
    "- The `fit_generator` method returns a `history` object."
   ]
  },
  {
   "cell_type": "code",
   "execution_count": 6,
   "metadata": {},
   "outputs": [
    {
     "data": {
      "image/png": "[encoded data removed]",
      "text/plain": [
       "<Figure size 432x288 with 1 Axes>"
      ]
     },
     "metadata": {
      "needs_background": "light"
     },
     "output_type": "display_data"
    },
    {
     "data": {
      "image/png": "[encoded data removed]",
      "text/plain": [
       "<Figure size 432x288 with 1 Axes>"
      ]
     },
     "metadata": {
      "needs_background": "light"
     },
     "output_type": "display_data"
    }
   ],
   "source": [
    "plt.plot(history.history['loss'])\n",
    "plt.plot(history.history['val_loss'])\n",
    "plt.title('Loss over epochs')\n",
    "plt.ylabel('Cross entrpy loss')\n",
    "plt.xlabel('Epoch')\n",
    "plt.legend(['train', 'test'])\n",
    "plt.show()\n",
    "\n",
    "plt.plot(history.history['acc'])\n",
    "plt.plot(history.history['val_acc'])\n",
    "plt.title('Accuracy over epochs')\n",
    "plt.ylabel('Accuracy')\n",
    "plt.xlabel('Epoch')\n",
    "plt.legend(['train', 'test'])\n",
    "plt.show()"
   ]
  },
  {
   "cell_type": "markdown",
   "metadata": {},
   "source": [
    "Based on these, what would you suggest for improving your model? Why?"
   ]
  },
  {
   "cell_type": "markdown",
   "metadata": {},
   "source": [
    "**Your answer:**\n",
    "\n",
    "\n",
    "The above model achieves a training accuracy of 75 % and test accuracy of 60 %. From this, and by looking at the plots, we conclude that\n",
    "\n",
    "* Training for only 10 epochs was probably too little, as the training loss was continuing to decrease when training was stopped\n",
    "* There seems to be some degree of overfitting, since the validation accuracy does is significantly worse than the training accuracy. However, our strategy will be to first create a network that will overfit the dataset completely and then try to regularize the network to improve validation accuracy. \n",
    "* Therefore we will first try to train the same model for a longer period to see if it can overfit."
   ]
  },
  {
   "cell_type": "markdown",
   "metadata": {},
   "source": [
    "---\n",
    "## 3. Improving your initial model"
   ]
  },
  {
   "cell_type": "markdown",
   "metadata": {},
   "source": [
    "Improve your initial model according to you answer above. Write the new definition in the cell below and train it."
   ]
  },
  {
   "cell_type": "code",
   "execution_count": 9,
   "metadata": {},
   "outputs": [
    {
     "name": "stdout",
     "output_type": "stream",
     "text": [
      "Epoch 1/50\n",
      "55/55 [==============================] - 7s 130ms/step - loss: 0.9881 - acc: 0.5935 - val_loss: 0.8650 - val_acc: 0.5534\n",
      "Epoch 2/50\n",
      "55/55 [==============================] - 6s 103ms/step - loss: 0.5657 - acc: 0.7537 - val_loss: 0.7857 - val_acc: 0.6134\n",
      "Epoch 3/50\n",
      "55/55 [==============================] - 6s 109ms/step - loss: 0.6610 - acc: 0.6693 - val_loss: 0.9686 - val_acc: 0.5506\n",
      "Epoch 4/50\n",
      "55/55 [==============================] - 6s 110ms/step - loss: 0.6300 - acc: 0.6989 - val_loss: 0.9356 - val_acc: 0.5236\n",
      "Epoch 5/50\n",
      "55/55 [==============================] - 6s 115ms/step - loss: 0.5498 - acc: 0.7520 - val_loss: 0.8891 - val_acc: 0.5783\n",
      "Epoch 6/50\n",
      "55/55 [==============================] - 6s 112ms/step - loss: 0.6013 - acc: 0.6835 - val_loss: 0.8073 - val_acc: 0.5569\n",
      "Epoch 7/50\n",
      "55/55 [==============================] - 6s 110ms/step - loss: 0.5336 - acc: 0.7327 - val_loss: 0.7944 - val_acc: 0.5861\n",
      "Epoch 8/50\n",
      "55/55 [==============================] - 6s 110ms/step - loss: 0.4990 - acc: 0.7506 - val_loss: 0.8051 - val_acc: 0.6270\n",
      "Epoch 9/50\n",
      "55/55 [==============================] - 6s 110ms/step - loss: 0.5109 - acc: 0.7622 - val_loss: 0.8410 - val_acc: 0.5687\n",
      "Epoch 10/50\n",
      "55/55 [==============================] - 6s 109ms/step - loss: 0.5028 - acc: 0.7665 - val_loss: 0.8272 - val_acc: 0.6183\n",
      "Epoch 11/50\n",
      "55/55 [==============================] - 6s 108ms/step - loss: 0.5283 - acc: 0.7506 - val_loss: 0.7548 - val_acc: 0.6447\n",
      "Epoch 12/50\n",
      "55/55 [==============================] - 6s 110ms/step - loss: 0.5203 - acc: 0.7515 - val_loss: 0.8833 - val_acc: 0.5648\n",
      "Epoch 13/50\n",
      "55/55 [==============================] - 6s 110ms/step - loss: 0.4429 - acc: 0.7924 - val_loss: 0.7727 - val_acc: 0.6375\n",
      "Epoch 14/50\n",
      "55/55 [==============================] - 6s 112ms/step - loss: 0.4346 - acc: 0.7929 - val_loss: 0.8673 - val_acc: 0.5770\n",
      "Epoch 15/50\n",
      "55/55 [==============================] - 6s 113ms/step - loss: 0.3449 - acc: 0.8548 - val_loss: 0.7330 - val_acc: 0.6557\n",
      "Epoch 16/50\n",
      "55/55 [==============================] - 6s 117ms/step - loss: 0.3677 - acc: 0.8446 - val_loss: 0.8901 - val_acc: 0.6210\n",
      "Epoch 17/50\n",
      "55/55 [==============================] - 6s 117ms/step - loss: 0.3397 - acc: 0.8662 - val_loss: 0.9491 - val_acc: 0.6171\n",
      "Epoch 18/50\n",
      "55/55 [==============================] - 6s 114ms/step - loss: 0.3525 - acc: 0.8599 - val_loss: 0.8744 - val_acc: 0.6577\n",
      "Epoch 19/50\n",
      "55/55 [==============================] - 6s 114ms/step - loss: 0.3246 - acc: 0.8705 - val_loss: 1.0058 - val_acc: 0.6213\n",
      "Epoch 20/50\n",
      "55/55 [==============================] - 6s 115ms/step - loss: 0.3514 - acc: 0.8625 - val_loss: 0.9819 - val_acc: 0.6094\n",
      "Epoch 21/50\n",
      "55/55 [==============================] - 6s 108ms/step - loss: 0.4345 - acc: 0.8239 - val_loss: 0.8281 - val_acc: 0.6544\n",
      "Epoch 22/50\n",
      "55/55 [==============================] - 6s 111ms/step - loss: 0.4316 - acc: 0.8054 - val_loss: 0.8920 - val_acc: 0.6534\n",
      "Epoch 23/50\n",
      "55/55 [==============================] - 6s 113ms/step - loss: 0.3400 - acc: 0.8670 - val_loss: 0.8484 - val_acc: 0.6170\n",
      "Epoch 24/50\n",
      "55/55 [==============================] - 6s 112ms/step - loss: 0.3219 - acc: 0.8564 - val_loss: 0.8052 - val_acc: 0.6520\n",
      "Epoch 25/50\n",
      "55/55 [==============================] - 6s 113ms/step - loss: 0.2089 - acc: 0.9301 - val_loss: 0.9566 - val_acc: 0.6295\n",
      "Epoch 26/50\n",
      "55/55 [==============================] - 6s 112ms/step - loss: 0.1837 - acc: 0.9426 - val_loss: 1.0274 - val_acc: 0.6759\n",
      "Epoch 27/50\n",
      "55/55 [==============================] - 6s 114ms/step - loss: 0.1822 - acc: 0.9449 - val_loss: 0.8590 - val_acc: 0.7030\n",
      "Epoch 28/50\n",
      "55/55 [==============================] - 6s 115ms/step - loss: 0.1952 - acc: 0.9313 - val_loss: 0.9952 - val_acc: 0.6778\n",
      "Epoch 29/50\n",
      "55/55 [==============================] - 6s 117ms/step - loss: 0.1764 - acc: 0.9420 - val_loss: 0.9217 - val_acc: 0.6750\n",
      "Epoch 30/50\n",
      "55/55 [==============================] - 6s 115ms/step - loss: 0.2224 - acc: 0.9176 - val_loss: 1.1229 - val_acc: 0.6216\n",
      "Epoch 31/50\n",
      "55/55 [==============================] - 6s 116ms/step - loss: 0.2091 - acc: 0.9310 - val_loss: 1.1631 - val_acc: 0.6494\n",
      "Epoch 32/50\n",
      "55/55 [==============================] - 6s 116ms/step - loss: 0.2144 - acc: 0.9199 - val_loss: 1.0504 - val_acc: 0.6577\n",
      "Epoch 33/50\n",
      "55/55 [==============================] - 6s 112ms/step - loss: 0.2075 - acc: 0.9162 - val_loss: 1.0466 - val_acc: 0.6498\n",
      "Epoch 34/50\n",
      "55/55 [==============================] - 6s 115ms/step - loss: 0.1988 - acc: 0.9273 - val_loss: 1.2206 - val_acc: 0.6264\n",
      "Epoch 35/50\n",
      "55/55 [==============================] - 6s 114ms/step - loss: 0.1967 - acc: 0.9256 - val_loss: 1.0902 - val_acc: 0.6801\n",
      "Epoch 36/50\n",
      "55/55 [==============================] - 6s 112ms/step - loss: 0.1752 - acc: 0.9338 - val_loss: 1.1823 - val_acc: 0.6478\n",
      "Epoch 37/50\n",
      "55/55 [==============================] - 6s 110ms/step - loss: 0.1037 - acc: 0.9710 - val_loss: 1.1134 - val_acc: 0.6621\n",
      "Epoch 38/50\n",
      "55/55 [==============================] - 6s 112ms/step - loss: 0.1139 - acc: 0.9662 - val_loss: 1.1308 - val_acc: 0.6682\n",
      "Epoch 39/50\n",
      "55/55 [==============================] - 6s 113ms/step - loss: 0.1014 - acc: 0.9710 - val_loss: 1.1462 - val_acc: 0.6776\n",
      "Epoch 40/50\n",
      "55/55 [==============================] - 6s 114ms/step - loss: 0.0960 - acc: 0.9705 - val_loss: 1.3343 - val_acc: 0.6330\n",
      "Epoch 41/50\n",
      "55/55 [==============================] - 6s 117ms/step - loss: 0.1065 - acc: 0.9696 - val_loss: 1.3028 - val_acc: 0.6491\n",
      "Epoch 42/50\n",
      "55/55 [==============================] - 6s 110ms/step - loss: 0.0802 - acc: 0.9767 - val_loss: 1.2461 - val_acc: 0.6674\n",
      "Epoch 43/50\n",
      "55/55 [==============================] - 6s 112ms/step - loss: 0.1026 - acc: 0.9685 - val_loss: 1.2242 - val_acc: 0.6484\n",
      "Epoch 44/50\n",
      "55/55 [==============================] - 6s 117ms/step - loss: 0.0897 - acc: 0.9733 - val_loss: 1.3608 - val_acc: 0.6392\n",
      "Epoch 45/50\n",
      "55/55 [==============================] - 6s 113ms/step - loss: 0.0766 - acc: 0.9798 - val_loss: 1.4338 - val_acc: 0.6392\n",
      "Epoch 46/50\n",
      "55/55 [==============================] - 6s 116ms/step - loss: 0.0937 - acc: 0.9707 - val_loss: 1.1196 - val_acc: 0.6895\n",
      "Epoch 47/50\n",
      "55/55 [==============================] - 6s 114ms/step - loss: 0.0681 - acc: 0.9818 - val_loss: 1.3045 - val_acc: 0.6722\n",
      "Epoch 48/50\n",
      "55/55 [==============================] - 6s 108ms/step - loss: 0.0564 - acc: 0.9849 - val_loss: 1.5289 - val_acc: 0.6413\n",
      "Epoch 49/50\n",
      "55/55 [==============================] - 6s 113ms/step - loss: 0.0332 - acc: 0.9952 - val_loss: 1.7062 - val_acc: 0.6355\n",
      "Epoch 50/50\n",
      "55/55 [==============================] - 6s 113ms/step - loss: 0.0260 - acc: 0.9952 - val_loss: 1.4132 - val_acc: 0.6705\n"
     ]
    }
   ],
   "source": [
    "# YOUR CODE HERE\n",
    "\n",
    "np.random.seed(0)\n",
    "\n",
    "model2 = Sequential()\n",
    "model2.add(Conv2D(16, kernel_size=8, strides=2, activation='relu', input_shape=(input_size[0], input_size[1], 3)))\n",
    "model2.add(MaxPooling2D(pool_size=(2, 2)))\n",
    "model2.add(Conv2D(32, kernel_size=4, strides=2, activation='relu'))\n",
    "model2.add(MaxPooling2D(pool_size=(2, 2)))\n",
    "model2.add(Conv2D(64, kernel_size=4, strides=1, activation='relu'))\n",
    "model2.add(MaxPooling2D(pool_size=(2, 2)))\n",
    "model2.add(Conv2D(128, kernel_size=2, strides=1, activation='relu'))\n",
    "model2.add(Flatten())\n",
    "model2.add(Dense(100, activation='relu'))\n",
    "model2.add(Dense(2, activation='softmax'))\n",
    "\n",
    "opt2 = keras.optimizers.Adam(lr=1e-4)\n",
    "model2.compile(optimizer=opt2, loss='categorical_crossentropy', metrics=['accuracy'])\n",
    "\n",
    "steps_per_epoch = np.ceil(len(train_generator.filenames) / train_generator.batch_size);\n",
    "history = model2.fit_generator(\n",
    "    train_generator,\n",
    "    steps_per_epoch=steps_per_epoch,\n",
    "    epochs=50,\n",
    "    shuffle=True,\n",
    "    use_multiprocessing=True,\n",
    "    workers=12,\n",
    "    validation_data=validation_generator,\n",
    "    validation_steps=steps_per_epoch)"
   ]
  },
  {
   "cell_type": "markdown",
   "metadata": {},
   "source": [
    "How does the model perform, compared to the initial model? Create one plot with the training accuracy and another with the validation accuracy of the two scenarios."
   ]
  },
  {
   "cell_type": "code",
   "execution_count": 10,
   "metadata": {},
   "outputs": [
    {
     "data": {
      "image/png": "[encoded data removed]",
      "text/plain": [
       "<Figure size 432x288 with 1 Axes>"
      ]
     },
     "metadata": {
      "needs_background": "light"
     },
     "output_type": "display_data"
    },
    {
     "data": {
      "image/png": "[encoded data removed]",
      "text/plain": [
       "<Figure size 432x288 with 1 Axes>"
      ]
     },
     "metadata": {
      "needs_background": "light"
     },
     "output_type": "display_data"
    }
   ],
   "source": [
    "plt.plot(history.history['loss'])\n",
    "plt.plot(history.history['val_loss'])\n",
    "plt.title('Loss over epochs')\n",
    "plt.ylabel('Cross entrpy loss')\n",
    "plt.xlabel('Epoch')\n",
    "plt.legend(['train', 'test'])\n",
    "plt.show()\n",
    "\n",
    "plt.plot(history.history['acc'])\n",
    "plt.plot(history.history['val_acc'])\n",
    "plt.title('Accuracy over epochs')\n",
    "plt.ylabel('Accuracy')\n",
    "plt.xlabel('Epoch')\n",
    "plt.legend(['train', 'test'])\n",
    "plt.show()"
   ]
  },
  {
   "cell_type": "markdown",
   "metadata": {},
   "source": [
    "Did your results improve? Explain why, or why not."
   ]
  },
  {
   "cell_type": "markdown",
   "metadata": {},
   "source": [
    "**Your answer:** \n",
    "* When increasing the number of epochs from 10 to 50, the training accuracy increased from 70 to 100 % and the validation accuracy from 60 to 65 %\n",
    "* Now we have overfitted our network. In the next step we need to regularize our network in order to improve the performance on the test data."
   ]
  },
  {
   "cell_type": "markdown",
   "metadata": {},
   "source": [
    "---\n",
    "## 4. Obtaining the *best* model"
   ]
  },
  {
   "cell_type": "markdown",
   "metadata": {},
   "source": [
    "Continue to improve your model architecture by comparing the value of the metrics you're interested in both the training and validation set. Try different ideas, and consider comparing them using tensorboard. When you're happy with one architecture, copy it in the cell below and train it here. Save the optimization history (i.e. the `history` object returned by the `fit_generator`). You'll use this later to compare your best model with the one using transfer learning.\n",
    "\n",
    "**Note**: When trying different ideas, you'll end up with several different models. However, when submitting your solutions to Canvas, the cell below must contain only the definition and training of *one* model. Remove all code related to the models that were not chosen."
   ]
  },
  {
   "cell_type": "code",
   "execution_count": 33,
   "metadata": {},
   "outputs": [
    {
     "name": "stdout",
     "output_type": "stream",
     "text": [
      "Epoch 1/500\n",
      "55/55 [==============================] - 9s 162ms/step - loss: 66.9012 - acc: 0.5460 - val_loss: 66.3184 - val_acc: 0.4952\n",
      "Epoch 2/500\n",
      "55/55 [==============================] - 6s 104ms/step - loss: 65.7184 - acc: 0.5145 - val_loss: 65.1295 - val_acc: 0.4849\n",
      "Epoch 3/500\n",
      "55/55 [==============================] - 6s 106ms/step - loss: 64.5574 - acc: 0.5494 - val_loss: 63.9765 - val_acc: 0.5224\n",
      "Epoch 4/500\n",
      "55/55 [==============================] - 6s 107ms/step - loss: 63.4301 - acc: 0.5259 - val_loss: 62.8532 - val_acc: 0.5767\n",
      "Epoch 5/500\n",
      "55/55 [==============================] - 6s 106ms/step - loss: 62.2988 - acc: 0.5332 - val_loss: 61.7462 - val_acc: 0.5607\n",
      "Epoch 6/500\n",
      "55/55 [==============================] - 6s 108ms/step - loss: 61.1911 - acc: 0.5673 - val_loss: 60.6528 - val_acc: 0.5569\n",
      "Epoch 7/500\n",
      "55/55 [==============================] - 6s 106ms/step - loss: 60.1276 - acc: 0.5705 - val_loss: 59.5939 - val_acc: 0.5710\n",
      "Epoch 8/500\n",
      "55/55 [==============================] - 6s 107ms/step - loss: 59.0509 - acc: 0.6188 - val_loss: 58.5451 - val_acc: 0.5810\n",
      "Epoch 9/500\n",
      "55/55 [==============================] - 6s 104ms/step - loss: 58.0150 - acc: 0.6040 - val_loss: 57.5117 - val_acc: 0.5813\n",
      "Epoch 10/500\n",
      "55/55 [==============================] - 6s 109ms/step - loss: 57.0143 - acc: 0.5685 - val_loss: 56.4937 - val_acc: 0.5600\n",
      "Epoch 11/500\n",
      "55/55 [==============================] - 6s 105ms/step - loss: 56.0076 - acc: 0.5915 - val_loss: 55.5009 - val_acc: 0.5883\n",
      "Epoch 12/500\n",
      "55/55 [==============================] - 6s 107ms/step - loss: 55.0384 - acc: 0.5881 - val_loss: 54.5337 - val_acc: 0.5849\n",
      "Epoch 13/500\n",
      "55/55 [==============================] - 6s 108ms/step - loss: 54.0452 - acc: 0.6180 - val_loss: 53.6000 - val_acc: 0.5426\n",
      "Epoch 14/500\n",
      "55/55 [==============================] - 6s 109ms/step - loss: 53.1016 - acc: 0.6330 - val_loss: 52.6413 - val_acc: 0.6185\n",
      "Epoch 15/500\n",
      "55/55 [==============================] - 6s 112ms/step - loss: 52.1803 - acc: 0.6401 - val_loss: 51.7171 - val_acc: 0.5903\n",
      "Epoch 16/500\n",
      "55/55 [==============================] - 6s 109ms/step - loss: 51.2606 - acc: 0.6298 - val_loss: 50.8197 - val_acc: 0.5813\n",
      "Epoch 17/500\n",
      "55/55 [==============================] - 6s 112ms/step - loss: 50.3634 - acc: 0.6276 - val_loss: 49.9307 - val_acc: 0.6032\n",
      "Epoch 18/500\n",
      "55/55 [==============================] - 6s 111ms/step - loss: 49.4777 - acc: 0.6472 - val_loss: 49.0428 - val_acc: 0.6474\n",
      "Epoch 19/500\n",
      "55/55 [==============================] - 6s 112ms/step - loss: 48.6070 - acc: 0.6526 - val_loss: 48.1928 - val_acc: 0.6000\n",
      "Epoch 20/500\n",
      "55/55 [==============================] - 6s 108ms/step - loss: 47.7497 - acc: 0.6372 - val_loss: 47.3474 - val_acc: 0.5923\n",
      "Epoch 21/500\n",
      "55/55 [==============================] - 6s 110ms/step - loss: 46.9277 - acc: 0.6318 - val_loss: 46.5132 - val_acc: 0.6196\n",
      "Epoch 22/500\n",
      "55/55 [==============================] - 6s 111ms/step - loss: 46.1049 - acc: 0.6239 - val_loss: 45.6993 - val_acc: 0.6036\n",
      "Epoch 23/500\n",
      "55/55 [==============================] - 6s 112ms/step - loss: 45.2843 - acc: 0.6702 - val_loss: 44.9031 - val_acc: 0.6114\n",
      "Epoch 24/500\n",
      "55/55 [==============================] - 6s 106ms/step - loss: 44.5013 - acc: 0.6453 - val_loss: 44.1177 - val_acc: 0.6060\n",
      "Epoch 25/500\n",
      "55/55 [==============================] - 6s 110ms/step - loss: 43.7023 - acc: 0.6810 - val_loss: 43.3375 - val_acc: 0.6131\n",
      "Epoch 26/500\n",
      "55/55 [==============================] - 6s 109ms/step - loss: 42.9393 - acc: 0.6605 - val_loss: 42.5716 - val_acc: 0.6386\n",
      "Epoch 27/500\n",
      "55/55 [==============================] - 6s 110ms/step - loss: 42.1854 - acc: 0.6855 - val_loss: 41.8278 - val_acc: 0.6292\n",
      "Epoch 28/500\n",
      "55/55 [==============================] - 6s 115ms/step - loss: 41.4440 - acc: 0.6946 - val_loss: 41.0958 - val_acc: 0.6111\n",
      "Epoch 29/500\n",
      "55/55 [==============================] - 6s 110ms/step - loss: 40.7112 - acc: 0.7034 - val_loss: 40.3769 - val_acc: 0.6142\n",
      "Epoch 30/500\n",
      "55/55 [==============================] - 6s 111ms/step - loss: 40.0053 - acc: 0.6801 - val_loss: 39.6733 - val_acc: 0.6165\n",
      "Epoch 31/500\n",
      "55/55 [==============================] - 6s 112ms/step - loss: 39.3117 - acc: 0.6494 - val_loss: 38.9769 - val_acc: 0.6193\n",
      "Epoch 32/500\n",
      "55/55 [==============================] - 6s 110ms/step - loss: 38.6069 - acc: 0.6693 - val_loss: 38.2848 - val_acc: 0.6286\n",
      "Epoch 33/500\n",
      "55/55 [==============================] - 6s 111ms/step - loss: 37.9233 - acc: 0.6977 - val_loss: 37.6120 - val_acc: 0.6210\n",
      "Epoch 34/500\n",
      "55/55 [==============================] - 6s 114ms/step - loss: 37.2600 - acc: 0.6741 - val_loss: 36.9522 - val_acc: 0.6324\n",
      "Epoch 35/500\n",
      "55/55 [==============================] - 6s 113ms/step - loss: 36.6066 - acc: 0.6460 - val_loss: 36.2961 - val_acc: 0.6423\n",
      "Epoch 36/500\n",
      "55/55 [==============================] - 6s 110ms/step - loss: 35.9676 - acc: 0.6526 - val_loss: 35.6681 - val_acc: 0.6125\n",
      "Epoch 37/500\n",
      "55/55 [==============================] - 6s 110ms/step - loss: 35.3151 - acc: 0.6933 - val_loss: 35.0511 - val_acc: 0.5762\n",
      "Epoch 38/500\n",
      "55/55 [==============================] - 6s 110ms/step - loss: 34.6949 - acc: 0.6952 - val_loss: 34.4246 - val_acc: 0.6070\n",
      "Epoch 39/500\n",
      "55/55 [==============================] - 6s 113ms/step - loss: 34.0827 - acc: 0.6849 - val_loss: 33.8102 - val_acc: 0.6301\n",
      "Epoch 40/500\n",
      "55/55 [==============================] - 6s 114ms/step - loss: 33.4785 - acc: 0.6960 - val_loss: 33.2085 - val_acc: 0.6486\n",
      "Epoch 41/500\n",
      "55/55 [==============================] - 6s 114ms/step - loss: 32.8934 - acc: 0.6881 - val_loss: 32.6336 - val_acc: 0.6006\n",
      "Epoch 42/500\n",
      "55/55 [==============================] - 6s 111ms/step - loss: 32.3138 - acc: 0.6886 - val_loss: 32.0652 - val_acc: 0.5962\n",
      "Epoch 43/500\n",
      "55/55 [==============================] - 6s 114ms/step - loss: 31.7595 - acc: 0.6312 - val_loss: 31.4995 - val_acc: 0.6134\n",
      "Epoch 44/500\n",
      "55/55 [==============================] - 6s 113ms/step - loss: 31.1777 - acc: 0.7031 - val_loss: 30.9426 - val_acc: 0.6119\n",
      "Epoch 45/500\n",
      "55/55 [==============================] - 6s 113ms/step - loss: 30.6225 - acc: 0.7165 - val_loss: 30.3860 - val_acc: 0.6202\n",
      "Epoch 46/500\n",
      "55/55 [==============================] - 6s 113ms/step - loss: 30.0898 - acc: 0.6824 - val_loss: 29.8372 - val_acc: 0.6435\n",
      "Epoch 47/500\n",
      "55/55 [==============================] - 6s 112ms/step - loss: 29.5636 - acc: 0.6756 - val_loss: 29.3183 - val_acc: 0.6251\n",
      "Epoch 48/500\n",
      "55/55 [==============================] - 6s 108ms/step - loss: 29.0375 - acc: 0.6810 - val_loss: 28.8066 - val_acc: 0.6102\n",
      "Epoch 49/500\n",
      "55/55 [==============================] - 6s 110ms/step - loss: 28.5088 - acc: 0.7152 - val_loss: 28.2996 - val_acc: 0.6088\n",
      "Epoch 50/500\n",
      "55/55 [==============================] - 6s 110ms/step - loss: 27.9829 - acc: 0.7435 - val_loss: 27.7924 - val_acc: 0.6281\n",
      "Epoch 51/500\n",
      "55/55 [==============================] - 6s 115ms/step - loss: 27.5127 - acc: 0.6997 - val_loss: 27.3003 - val_acc: 0.6463\n",
      "Epoch 52/500\n",
      "55/55 [==============================] - 6s 111ms/step - loss: 27.0198 - acc: 0.7122 - val_loss: 26.8155 - val_acc: 0.6518\n",
      "Epoch 53/500\n",
      "55/55 [==============================] - 6s 110ms/step - loss: 26.5404 - acc: 0.7230 - val_loss: 26.3394 - val_acc: 0.6478\n",
      "Epoch 54/500\n",
      "55/55 [==============================] - 6s 112ms/step - loss: 26.0698 - acc: 0.7045 - val_loss: 25.8714 - val_acc: 0.6595\n",
      "Epoch 55/500\n",
      "55/55 [==============================] - 6s 116ms/step - loss: 25.6050 - acc: 0.7054 - val_loss: 25.4261 - val_acc: 0.6039\n",
      "Epoch 56/500\n",
      "55/55 [==============================] - 6s 114ms/step - loss: 25.1602 - acc: 0.7094 - val_loss: 24.9736 - val_acc: 0.6326\n",
      "Epoch 57/500\n",
      "55/55 [==============================] - 6s 114ms/step - loss: 24.7010 - acc: 0.7250 - val_loss: 24.5311 - val_acc: 0.6175\n",
      "Epoch 58/500\n",
      "55/55 [==============================] - 6s 111ms/step - loss: 24.2622 - acc: 0.7111 - val_loss: 24.0929 - val_acc: 0.6383\n",
      "Epoch 59/500\n",
      "55/55 [==============================] - 6s 110ms/step - loss: 23.8378 - acc: 0.6972 - val_loss: 23.6671 - val_acc: 0.6453\n",
      "Epoch 60/500\n",
      "55/55 [==============================] - 6s 109ms/step - loss: 23.4004 - acc: 0.7398 - val_loss: 23.2456 - val_acc: 0.6323\n",
      "Epoch 61/500\n"
     ]
    },
    {
     "name": "stdout",
     "output_type": "stream",
     "text": [
      "55/55 [==============================] - 6s 112ms/step - loss: 22.9658 - acc: 0.7715 - val_loss: 22.8407 - val_acc: 0.6375\n",
      "Epoch 62/500\n",
      "55/55 [==============================] - 6s 115ms/step - loss: 22.5587 - acc: 0.7665 - val_loss: 22.4335 - val_acc: 0.6313\n",
      "Epoch 63/500\n",
      "55/55 [==============================] - 6s 108ms/step - loss: 22.1635 - acc: 0.7599 - val_loss: 22.0424 - val_acc: 0.6386\n",
      "Epoch 64/500\n",
      "55/55 [==============================] - 6s 114ms/step - loss: 21.7729 - acc: 0.7537 - val_loss: 21.6466 - val_acc: 0.6323\n",
      "Epoch 65/500\n",
      "55/55 [==============================] - 6s 112ms/step - loss: 21.4025 - acc: 0.7301 - val_loss: 21.2626 - val_acc: 0.6456\n",
      "Epoch 66/500\n",
      "55/55 [==============================] - 6s 113ms/step - loss: 21.0227 - acc: 0.7597 - val_loss: 20.8911 - val_acc: 0.6418\n",
      "Epoch 67/500\n",
      "55/55 [==============================] - 6s 116ms/step - loss: 20.6428 - acc: 0.7616 - val_loss: 20.5310 - val_acc: 0.6166\n",
      "Epoch 68/500\n",
      "55/55 [==============================] - 6s 110ms/step - loss: 20.2821 - acc: 0.7401 - val_loss: 20.1539 - val_acc: 0.6665\n",
      "Epoch 69/500\n",
      "55/55 [==============================] - 6s 114ms/step - loss: 19.9184 - acc: 0.7636 - val_loss: 19.8027 - val_acc: 0.6625\n",
      "Epoch 70/500\n",
      "55/55 [==============================] - 6s 112ms/step - loss: 19.5780 - acc: 0.7384 - val_loss: 19.4544 - val_acc: 0.6808\n",
      "Epoch 71/500\n",
      "55/55 [==============================] - 6s 113ms/step - loss: 19.2362 - acc: 0.7364 - val_loss: 19.1132 - val_acc: 0.6700\n",
      "Epoch 72/500\n",
      "55/55 [==============================] - 6s 111ms/step - loss: 18.8841 - acc: 0.7438 - val_loss: 18.7835 - val_acc: 0.6610\n",
      "Epoch 73/500\n",
      "55/55 [==============================] - 6s 110ms/step - loss: 18.5204 - acc: 0.8047 - val_loss: 18.4505 - val_acc: 0.6697\n",
      "Epoch 74/500\n",
      "55/55 [==============================] - 6s 113ms/step - loss: 18.1991 - acc: 0.8142 - val_loss: 18.1310 - val_acc: 0.6668\n",
      "Epoch 75/500\n",
      "55/55 [==============================] - 6s 112ms/step - loss: 17.8802 - acc: 0.8347 - val_loss: 17.8189 - val_acc: 0.6639\n",
      "Epoch 76/500\n",
      "55/55 [==============================] - 6s 112ms/step - loss: 17.5647 - acc: 0.8080 - val_loss: 17.5114 - val_acc: 0.6508\n",
      "Epoch 77/500\n",
      "55/55 [==============================] - 6s 116ms/step - loss: 17.2537 - acc: 0.8080 - val_loss: 17.2044 - val_acc: 0.6484\n",
      "Epoch 78/500\n",
      "55/55 [==============================] - 6s 111ms/step - loss: 16.9695 - acc: 0.7960 - val_loss: 16.8941 - val_acc: 0.6907\n",
      "Epoch 79/500\n",
      "55/55 [==============================] - 6s 115ms/step - loss: 16.6632 - acc: 0.8142 - val_loss: 16.6072 - val_acc: 0.6836\n",
      "Epoch 80/500\n",
      "55/55 [==============================] - 6s 113ms/step - loss: 16.3521 - acc: 0.8312 - val_loss: 16.3143 - val_acc: 0.6894\n",
      "Epoch 81/500\n",
      "55/55 [==============================] - 6s 114ms/step - loss: 16.0831 - acc: 0.7969 - val_loss: 16.0218 - val_acc: 0.6940\n",
      "Epoch 82/500\n",
      "55/55 [==============================] - 6s 116ms/step - loss: 15.8000 - acc: 0.7918 - val_loss: 15.7626 - val_acc: 0.6757\n",
      "Epoch 83/500\n",
      "55/55 [==============================] - 6s 111ms/step - loss: 15.5292 - acc: 0.8082 - val_loss: 15.4959 - val_acc: 0.6901\n",
      "Epoch 84/500\n",
      "55/55 [==============================] - 6s 111ms/step - loss: 15.2428 - acc: 0.8352 - val_loss: 15.2353 - val_acc: 0.6627\n",
      "Epoch 85/500\n",
      "55/55 [==============================] - 6s 112ms/step - loss: 14.9552 - acc: 0.8541 - val_loss: 14.9748 - val_acc: 0.6817\n",
      "Epoch 86/500\n",
      "55/55 [==============================] - 6s 112ms/step - loss: 14.6930 - acc: 0.8673 - val_loss: 14.7125 - val_acc: 0.7092\n",
      "Epoch 87/500\n",
      "55/55 [==============================] - 6s 111ms/step - loss: 14.4227 - acc: 0.9105 - val_loss: 14.4577 - val_acc: 0.7106\n",
      "Epoch 88/500\n",
      "55/55 [==============================] - 6s 111ms/step - loss: 14.1901 - acc: 0.8645 - val_loss: 14.2063 - val_acc: 0.6952\n",
      "Epoch 89/500\n",
      "55/55 [==============================] - 6s 111ms/step - loss: 13.9398 - acc: 0.8713 - val_loss: 13.9635 - val_acc: 0.7065\n",
      "Epoch 90/500\n",
      "55/55 [==============================] - 6s 111ms/step - loss: 13.7080 - acc: 0.8557 - val_loss: 13.7272 - val_acc: 0.7125\n",
      "Epoch 91/500\n",
      "55/55 [==============================] - 6s 113ms/step - loss: 13.4710 - acc: 0.8676 - val_loss: 13.5130 - val_acc: 0.6961\n",
      "Epoch 92/500\n",
      "55/55 [==============================] - 6s 107ms/step - loss: 13.2391 - acc: 0.8773 - val_loss: 13.2942 - val_acc: 0.6940\n",
      "Epoch 93/500\n",
      "55/55 [==============================] - 6s 113ms/step - loss: 13.0135 - acc: 0.8824 - val_loss: 13.0734 - val_acc: 0.6896\n",
      "Epoch 94/500\n",
      "55/55 [==============================] - 6s 109ms/step - loss: 12.7929 - acc: 0.8659 - val_loss: 12.8548 - val_acc: 0.6859\n",
      "Epoch 95/500\n",
      "55/55 [==============================] - 6s 113ms/step - loss: 12.5777 - acc: 0.8770 - val_loss: 12.6519 - val_acc: 0.6727\n",
      "Epoch 96/500\n",
      "55/55 [==============================] - 6s 109ms/step - loss: 12.3570 - acc: 0.8877 - val_loss: 12.4431 - val_acc: 0.6749\n",
      "Epoch 97/500\n",
      "55/55 [==============================] - 6s 111ms/step - loss: 12.1127 - acc: 0.9282 - val_loss: 12.2251 - val_acc: 0.6889\n",
      "Epoch 98/500\n",
      "55/55 [==============================] - 6s 108ms/step - loss: 11.9047 - acc: 0.9358 - val_loss: 12.0317 - val_acc: 0.7240\n",
      "Epoch 99/500\n",
      "55/55 [==============================] - 6s 109ms/step - loss: 11.6882 - acc: 0.9531 - val_loss: 11.8364 - val_acc: 0.7219\n",
      "Epoch 100/500\n",
      "55/55 [==============================] - 6s 112ms/step - loss: 11.5086 - acc: 0.9298 - val_loss: 11.6357 - val_acc: 0.7207\n",
      "Epoch 101/500\n",
      "55/55 [==============================] - 6s 116ms/step - loss: 11.3250 - acc: 0.9162 - val_loss: 11.4716 - val_acc: 0.6986\n",
      "Epoch 102/500\n",
      "55/55 [==============================] - 6s 110ms/step - loss: 11.1348 - acc: 0.9261 - val_loss: 11.2850 - val_acc: 0.7009\n",
      "Epoch 103/500\n",
      "55/55 [==============================] - 6s 108ms/step - loss: 10.9193 - acc: 0.9509 - val_loss: 11.1228 - val_acc: 0.6908\n",
      "Epoch 104/500\n",
      "55/55 [==============================] - 6s 109ms/step - loss: 10.7367 - acc: 0.9420 - val_loss: 10.8845 - val_acc: 0.7429\n",
      "Epoch 105/500\n",
      "55/55 [==============================] - 6s 110ms/step - loss: 10.5807 - acc: 0.9247 - val_loss: 10.7361 - val_acc: 0.7166\n",
      "Epoch 106/500\n",
      "55/55 [==============================] - 6s 112ms/step - loss: 10.4167 - acc: 0.9193 - val_loss: 10.5786 - val_acc: 0.6963\n",
      "Epoch 107/500\n",
      "55/55 [==============================] - 6s 110ms/step - loss: 10.2368 - acc: 0.9332 - val_loss: 10.4053 - val_acc: 0.7030\n",
      "Epoch 108/500\n",
      "55/55 [==============================] - 6s 109ms/step - loss: 10.0413 - acc: 0.9588 - val_loss: 10.2445 - val_acc: 0.6998\n",
      "Epoch 109/500\n",
      "55/55 [==============================] - 6s 107ms/step - loss: 9.8558 - acc: 0.9661 - val_loss: 10.0918 - val_acc: 0.7054\n",
      "Epoch 110/500\n",
      "55/55 [==============================] - 6s 109ms/step - loss: 9.6888 - acc: 0.9815 - val_loss: 9.9300 - val_acc: 0.7125\n",
      "Epoch 111/500\n",
      "55/55 [==============================] - 6s 111ms/step - loss: 9.5307 - acc: 0.9770 - val_loss: 9.7912 - val_acc: 0.7037\n",
      "Epoch 112/500\n",
      "55/55 [==============================] - 6s 108ms/step - loss: 9.3749 - acc: 0.9744 - val_loss: 9.6411 - val_acc: 0.7132\n",
      "Epoch 113/500\n",
      "55/55 [==============================] - 6s 113ms/step - loss: 9.2201 - acc: 0.9750 - val_loss: 9.4691 - val_acc: 0.7274\n",
      "Epoch 114/500\n",
      "55/55 [==============================] - 6s 110ms/step - loss: 9.0691 - acc: 0.9724 - val_loss: 9.3430 - val_acc: 0.7109\n",
      "Epoch 115/500\n",
      "55/55 [==============================] - 6s 113ms/step - loss: 8.9125 - acc: 0.9818 - val_loss: 9.1876 - val_acc: 0.7183\n",
      "Epoch 116/500\n",
      "55/55 [==============================] - 6s 109ms/step - loss: 8.7684 - acc: 0.9838 - val_loss: 9.0814 - val_acc: 0.6827\n",
      "Epoch 117/500\n",
      "55/55 [==============================] - 6s 110ms/step - loss: 8.6359 - acc: 0.9719 - val_loss: 8.9320 - val_acc: 0.7029\n",
      "Epoch 118/500\n",
      "55/55 [==============================] - 6s 112ms/step - loss: 8.5070 - acc: 0.9673 - val_loss: 8.7659 - val_acc: 0.7292\n",
      "Epoch 119/500\n",
      "55/55 [==============================] - 6s 111ms/step - loss: 8.3648 - acc: 0.9702 - val_loss: 8.6540 - val_acc: 0.7019\n",
      "Epoch 120/500\n",
      "55/55 [==============================] - 6s 109ms/step - loss: 8.2201 - acc: 0.9771 - val_loss: 8.5086 - val_acc: 0.7198\n",
      "Epoch 121/500\n"
     ]
    },
    {
     "name": "stdout",
     "output_type": "stream",
     "text": [
      "55/55 [==============================] - 6s 111ms/step - loss: 8.0640 - acc: 0.9912 - val_loss: 8.3882 - val_acc: 0.7133\n",
      "Epoch 122/500\n",
      "55/55 [==============================] - 6s 113ms/step - loss: 7.9341 - acc: 0.9955 - val_loss: 8.2595 - val_acc: 0.7114\n",
      "Epoch 123/500\n",
      "55/55 [==============================] - 6s 109ms/step - loss: 7.8090 - acc: 0.9898 - val_loss: 8.1207 - val_acc: 0.7181\n",
      "Epoch 124/500\n",
      "55/55 [==============================] - 6s 110ms/step - loss: 7.6802 - acc: 0.9940 - val_loss: 8.0119 - val_acc: 0.7075\n",
      "Epoch 125/500\n",
      "55/55 [==============================] - 6s 109ms/step - loss: 7.5526 - acc: 0.9946 - val_loss: 7.9057 - val_acc: 0.7006\n",
      "Epoch 126/500\n",
      "55/55 [==============================] - 6s 110ms/step - loss: 7.4303 - acc: 0.9935 - val_loss: 7.7866 - val_acc: 0.7107\n",
      "Epoch 127/500\n",
      "55/55 [==============================] - 6s 113ms/step - loss: 7.3127 - acc: 0.9932 - val_loss: 7.6868 - val_acc: 0.6994\n",
      "Epoch 128/500\n",
      "55/55 [==============================] - 6s 110ms/step - loss: 7.1961 - acc: 0.9938 - val_loss: 7.5397 - val_acc: 0.7069\n",
      "Epoch 129/500\n",
      "55/55 [==============================] - 6s 109ms/step - loss: 7.0815 - acc: 0.9918 - val_loss: 7.4426 - val_acc: 0.7001\n",
      "Epoch 130/500\n",
      "55/55 [==============================] - 6s 110ms/step - loss: 6.9704 - acc: 0.9903 - val_loss: 7.3241 - val_acc: 0.7034\n",
      "Epoch 131/500\n",
      "55/55 [==============================] - 6s 110ms/step - loss: 6.8568 - acc: 0.9948 - val_loss: 7.2156 - val_acc: 0.7088\n",
      "Epoch 132/500\n",
      "55/55 [==============================] - 6s 111ms/step - loss: 6.7387 - acc: 0.9980 - val_loss: 7.1021 - val_acc: 0.7119\n",
      "Epoch 133/500\n",
      "55/55 [==============================] - 6s 109ms/step - loss: 6.6224 - acc: 0.9980 - val_loss: 6.9924 - val_acc: 0.7106\n",
      "Epoch 134/500\n",
      "55/55 [==============================] - 6s 112ms/step - loss: 6.5203 - acc: 0.9989 - val_loss: 6.8934 - val_acc: 0.7094\n",
      "Epoch 135/500\n",
      "55/55 [==============================] - 6s 110ms/step - loss: 6.4144 - acc: 0.9977 - val_loss: 6.7927 - val_acc: 0.7082\n",
      "Epoch 136/500\n",
      "55/55 [==============================] - 6s 110ms/step - loss: 6.3120 - acc: 0.9983 - val_loss: 6.6976 - val_acc: 0.6988\n",
      "Epoch 137/500\n",
      "55/55 [==============================] - 6s 112ms/step - loss: 6.2083 - acc: 0.9966 - val_loss: 6.5913 - val_acc: 0.7091\n",
      "Epoch 138/500\n",
      "55/55 [==============================] - 6s 111ms/step - loss: 6.1137 - acc: 0.9963 - val_loss: 6.4782 - val_acc: 0.7153\n",
      "Epoch 139/500\n",
      "55/55 [==============================] - 6s 110ms/step - loss: 6.0161 - acc: 0.9980 - val_loss: 6.3943 - val_acc: 0.7066\n",
      "Epoch 140/500\n",
      "55/55 [==============================] - 6s 111ms/step - loss: 5.9188 - acc: 0.9980 - val_loss: 6.2900 - val_acc: 0.7137\n",
      "Epoch 141/500\n",
      "55/55 [==============================] - 6s 109ms/step - loss: 5.8209 - acc: 0.9980 - val_loss: 6.1918 - val_acc: 0.7209\n",
      "Epoch 142/500\n",
      "55/55 [==============================] - 6s 109ms/step - loss: 5.7268 - acc: 0.9989 - val_loss: 6.1148 - val_acc: 0.7060\n",
      "Epoch 143/500\n",
      "55/55 [==============================] - 6s 113ms/step - loss: 5.6343 - acc: 0.9989 - val_loss: 6.0253 - val_acc: 0.7142\n",
      "Epoch 144/500\n",
      "55/55 [==============================] - 6s 107ms/step - loss: 5.5408 - acc: 0.9994 - val_loss: 5.9279 - val_acc: 0.7049\n",
      "Epoch 145/500\n",
      "55/55 [==============================] - 6s 111ms/step - loss: 5.4435 - acc: 0.9994 - val_loss: 5.8372 - val_acc: 0.7160\n",
      "Epoch 146/500\n",
      "55/55 [==============================] - 6s 109ms/step - loss: 5.3575 - acc: 0.9986 - val_loss: 5.7602 - val_acc: 0.7131\n",
      "Epoch 147/500\n",
      "55/55 [==============================] - 6s 112ms/step - loss: 5.2737 - acc: 1.0000 - val_loss: 5.6478 - val_acc: 0.7315\n",
      "Epoch 148/500\n",
      "55/55 [==============================] - 6s 111ms/step - loss: 5.1885 - acc: 0.9997 - val_loss: 5.5917 - val_acc: 0.7026\n",
      "Epoch 149/500\n",
      "55/55 [==============================] - 6s 113ms/step - loss: 5.1050 - acc: 0.9994 - val_loss: 5.4989 - val_acc: 0.7204\n",
      "Epoch 150/500\n",
      "55/55 [==============================] - 6s 109ms/step - loss: 5.0248 - acc: 0.9997 - val_loss: 5.4475 - val_acc: 0.7098\n",
      "Epoch 151/500\n",
      "55/55 [==============================] - 6s 108ms/step - loss: 4.9480 - acc: 0.9980 - val_loss: 5.3541 - val_acc: 0.6885\n",
      "Epoch 152/500\n",
      "55/55 [==============================] - 6s 108ms/step - loss: 4.8705 - acc: 0.9983 - val_loss: 5.2567 - val_acc: 0.7230\n",
      "Epoch 153/500\n",
      "55/55 [==============================] - 6s 111ms/step - loss: 4.7921 - acc: 0.9989 - val_loss: 5.1814 - val_acc: 0.7196\n",
      "Epoch 154/500\n",
      "55/55 [==============================] - 6s 115ms/step - loss: 4.7265 - acc: 0.9940 - val_loss: 5.0955 - val_acc: 0.7173\n",
      "Epoch 155/500\n",
      "55/55 [==============================] - 6s 109ms/step - loss: 4.6448 - acc: 0.9970 - val_loss: 5.0395 - val_acc: 0.7020\n",
      "Epoch 156/500\n",
      "55/55 [==============================] - 6s 105ms/step - loss: 4.5627 - acc: 0.9991 - val_loss: 4.9788 - val_acc: 0.6994\n",
      "Epoch 157/500\n",
      "55/55 [==============================] - 6s 111ms/step - loss: 4.4834 - acc: 1.0000 - val_loss: 4.8903 - val_acc: 0.7157\n",
      "Epoch 158/500\n",
      "55/55 [==============================] - 6s 110ms/step - loss: 4.4123 - acc: 0.9997 - val_loss: 4.8031 - val_acc: 0.7156\n",
      "Epoch 159/500\n",
      "55/55 [==============================] - 6s 114ms/step - loss: 4.3456 - acc: 0.9980 - val_loss: 4.7266 - val_acc: 0.7213\n",
      "Epoch 160/500\n",
      "55/55 [==============================] - 6s 110ms/step - loss: 4.2771 - acc: 0.9994 - val_loss: 4.6944 - val_acc: 0.6902\n",
      "Epoch 161/500\n",
      "55/55 [==============================] - 6s 109ms/step - loss: 4.2094 - acc: 0.9997 - val_loss: 4.6222 - val_acc: 0.7170\n",
      "Epoch 162/500\n",
      "55/55 [==============================] - 6s 109ms/step - loss: 4.1371 - acc: 1.0000 - val_loss: 4.5350 - val_acc: 0.7176\n",
      "Epoch 163/500\n",
      "55/55 [==============================] - 6s 111ms/step - loss: 4.0716 - acc: 0.9997 - val_loss: 4.4699 - val_acc: 0.7113\n",
      "Epoch 164/500\n",
      "55/55 [==============================] - 6s 110ms/step - loss: 4.0089 - acc: 0.9994 - val_loss: 4.4006 - val_acc: 0.7151\n",
      "Epoch 165/500\n",
      "55/55 [==============================] - 6s 111ms/step - loss: 3.9465 - acc: 0.9989 - val_loss: 4.3711 - val_acc: 0.7152\n",
      "Epoch 166/500\n",
      "55/55 [==============================] - 6s 108ms/step - loss: 3.8860 - acc: 0.9991 - val_loss: 4.3885 - val_acc: 0.6484\n",
      "Epoch 167/500\n",
      "55/55 [==============================] - 6s 112ms/step - loss: 3.8255 - acc: 0.9996 - val_loss: 4.2737 - val_acc: 0.6900\n",
      "Epoch 168/500\n",
      "55/55 [==============================] - 6s 111ms/step - loss: 3.7595 - acc: 1.0000 - val_loss: 4.1866 - val_acc: 0.6937\n",
      "Epoch 169/500\n",
      "55/55 [==============================] - 6s 113ms/step - loss: 3.6981 - acc: 0.9997 - val_loss: 4.0956 - val_acc: 0.7091\n",
      "Epoch 170/500\n",
      "55/55 [==============================] - 6s 107ms/step - loss: 3.6380 - acc: 1.0000 - val_loss: 4.0250 - val_acc: 0.7242\n",
      "Epoch 171/500\n",
      "55/55 [==============================] - 6s 110ms/step - loss: 3.5754 - acc: 1.0000 - val_loss: 3.9741 - val_acc: 0.7186\n",
      "Epoch 172/500\n",
      "55/55 [==============================] - 6s 109ms/step - loss: 3.5177 - acc: 1.0000 - val_loss: 3.9508 - val_acc: 0.7025\n",
      "Epoch 173/500\n",
      "55/55 [==============================] - 6s 111ms/step - loss: 3.4703 - acc: 0.9997 - val_loss: 3.8962 - val_acc: 0.7046\n",
      "Epoch 174/500\n",
      "55/55 [==============================] - 6s 112ms/step - loss: 3.4146 - acc: 0.9997 - val_loss: 3.8109 - val_acc: 0.7311\n",
      "Epoch 175/500\n",
      "55/55 [==============================] - 6s 112ms/step - loss: 3.3580 - acc: 0.9997 - val_loss: 3.7551 - val_acc: 0.7164\n",
      "Epoch 176/500\n",
      "55/55 [==============================] - 6s 113ms/step - loss: 3.3036 - acc: 0.9994 - val_loss: 3.7233 - val_acc: 0.7105\n",
      "Epoch 177/500\n",
      "55/55 [==============================] - 6s 109ms/step - loss: 3.2551 - acc: 0.9986 - val_loss: 3.6718 - val_acc: 0.7136\n",
      "Epoch 178/500\n",
      "55/55 [==============================] - 6s 109ms/step - loss: 3.2064 - acc: 1.0000 - val_loss: 3.6253 - val_acc: 0.6900\n",
      "Epoch 179/500\n",
      "55/55 [==============================] - 6s 111ms/step - loss: 3.1519 - acc: 1.0000 - val_loss: 3.5506 - val_acc: 0.7048\n",
      "Epoch 180/500\n",
      "55/55 [==============================] - 6s 109ms/step - loss: 3.0964 - acc: 1.0000 - val_loss: 3.4956 - val_acc: 0.7230\n",
      "Epoch 181/500\n",
      "55/55 [==============================] - 6s 109ms/step - loss: 3.0475 - acc: 0.9994 - val_loss: 3.4405 - val_acc: 0.7419\n"
     ]
    },
    {
     "name": "stdout",
     "output_type": "stream",
     "text": [
      "Epoch 182/500\n",
      "55/55 [==============================] - 6s 110ms/step - loss: 3.0000 - acc: 1.0000 - val_loss: 3.4207 - val_acc: 0.7100\n",
      "Epoch 183/500\n",
      "55/55 [==============================] - 6s 108ms/step - loss: 2.9508 - acc: 1.0000 - val_loss: 3.3389 - val_acc: 0.7268\n",
      "Epoch 184/500\n",
      "55/55 [==============================] - 6s 112ms/step - loss: 2.9037 - acc: 0.9994 - val_loss: 3.3432 - val_acc: 0.6991\n",
      "Epoch 185/500\n",
      "55/55 [==============================] - 6s 112ms/step - loss: 2.8574 - acc: 1.0000 - val_loss: 3.2695 - val_acc: 0.7090\n",
      "Epoch 186/500\n",
      "55/55 [==============================] - 6s 108ms/step - loss: 2.8111 - acc: 1.0000 - val_loss: 3.2079 - val_acc: 0.7150\n",
      "Epoch 187/500\n",
      "55/55 [==============================] - 6s 110ms/step - loss: 2.7697 - acc: 0.9986 - val_loss: 3.1769 - val_acc: 0.7101\n",
      "Epoch 188/500\n",
      "55/55 [==============================] - 6s 111ms/step - loss: 2.7278 - acc: 0.9997 - val_loss: 3.1364 - val_acc: 0.7169\n",
      "Epoch 189/500\n",
      "55/55 [==============================] - 6s 112ms/step - loss: 2.6836 - acc: 0.9997 - val_loss: 3.1327 - val_acc: 0.6949\n",
      "Epoch 190/500\n",
      "55/55 [==============================] - 6s 111ms/step - loss: 2.6410 - acc: 1.0000 - val_loss: 3.0535 - val_acc: 0.7241\n",
      "Epoch 191/500\n",
      "55/55 [==============================] - 6s 111ms/step - loss: 2.6016 - acc: 0.9986 - val_loss: 3.0111 - val_acc: 0.7090\n",
      "Epoch 192/500\n",
      "55/55 [==============================] - 6s 106ms/step - loss: 2.5576 - acc: 0.9997 - val_loss: 2.9676 - val_acc: 0.7156\n",
      "Epoch 193/500\n",
      "55/55 [==============================] - 6s 109ms/step - loss: 2.5130 - acc: 1.0000 - val_loss: 2.9182 - val_acc: 0.7152\n",
      "Epoch 194/500\n",
      "55/55 [==============================] - 6s 111ms/step - loss: 2.4750 - acc: 0.9997 - val_loss: 2.9043 - val_acc: 0.6846\n",
      "Epoch 195/500\n",
      "55/55 [==============================] - 6s 115ms/step - loss: 2.4362 - acc: 1.0000 - val_loss: 2.8561 - val_acc: 0.7026\n",
      "Epoch 196/500\n",
      "55/55 [==============================] - 6s 108ms/step - loss: 2.3955 - acc: 1.0000 - val_loss: 2.8219 - val_acc: 0.7153\n",
      "Epoch 197/500\n",
      "55/55 [==============================] - 6s 109ms/step - loss: 2.3571 - acc: 0.9997 - val_loss: 2.8026 - val_acc: 0.6867\n",
      "Epoch 198/500\n",
      "55/55 [==============================] - 6s 111ms/step - loss: 2.3232 - acc: 1.0000 - val_loss: 2.7411 - val_acc: 0.7158\n",
      "Epoch 199/500\n",
      "55/55 [==============================] - 6s 109ms/step - loss: 2.2876 - acc: 1.0000 - val_loss: 2.6636 - val_acc: 0.7430\n",
      "Epoch 200/500\n",
      "55/55 [==============================] - 6s 112ms/step - loss: 2.2525 - acc: 1.0000 - val_loss: 2.6520 - val_acc: 0.7176\n",
      "Epoch 201/500\n",
      "55/55 [==============================] - 6s 111ms/step - loss: 2.2170 - acc: 0.9997 - val_loss: 2.6384 - val_acc: 0.7055\n",
      "Epoch 202/500\n",
      "55/55 [==============================] - 6s 113ms/step - loss: 2.1852 - acc: 0.9991 - val_loss: 2.5987 - val_acc: 0.7145\n",
      "Epoch 203/500\n",
      "55/55 [==============================] - 6s 110ms/step - loss: 2.1501 - acc: 1.0000 - val_loss: 2.5396 - val_acc: 0.7253\n",
      "Epoch 204/500\n",
      "55/55 [==============================] - 6s 110ms/step - loss: 2.1131 - acc: 1.0000 - val_loss: 2.5090 - val_acc: 0.7401\n",
      "Epoch 205/500\n",
      "55/55 [==============================] - 6s 113ms/step - loss: 2.0781 - acc: 1.0000 - val_loss: 2.5051 - val_acc: 0.7133\n",
      "Epoch 206/500\n",
      "55/55 [==============================] - 6s 111ms/step - loss: 2.0449 - acc: 0.9997 - val_loss: 2.4778 - val_acc: 0.7144\n",
      "Epoch 207/500\n",
      "55/55 [==============================] - 6s 109ms/step - loss: 2.0139 - acc: 1.0000 - val_loss: 2.4552 - val_acc: 0.6988\n",
      "Epoch 208/500\n",
      "55/55 [==============================] - 6s 109ms/step - loss: 1.9821 - acc: 1.0000 - val_loss: 2.3986 - val_acc: 0.7161\n",
      "Epoch 209/500\n",
      "55/55 [==============================] - 6s 113ms/step - loss: 1.9529 - acc: 0.9994 - val_loss: 2.3659 - val_acc: 0.7150\n",
      "Epoch 210/500\n",
      "55/55 [==============================] - 6s 111ms/step - loss: 1.9210 - acc: 1.0000 - val_loss: 2.3093 - val_acc: 0.7465\n",
      "Epoch 211/500\n",
      "55/55 [==============================] - 6s 110ms/step - loss: 1.8920 - acc: 0.9997 - val_loss: 2.2693 - val_acc: 0.7336\n",
      "Epoch 212/500\n",
      "55/55 [==============================] - 6s 111ms/step - loss: 1.8631 - acc: 1.0000 - val_loss: 2.2895 - val_acc: 0.7072\n",
      "Epoch 213/500\n",
      "55/55 [==============================] - 6s 111ms/step - loss: 1.8349 - acc: 1.0000 - val_loss: 2.2609 - val_acc: 0.7057\n",
      "Epoch 214/500\n",
      "55/55 [==============================] - 6s 110ms/step - loss: 1.8064 - acc: 0.9997 - val_loss: 2.2292 - val_acc: 0.6992\n",
      "Epoch 215/500\n",
      "55/55 [==============================] - 6s 108ms/step - loss: 1.7761 - acc: 1.0000 - val_loss: 2.1792 - val_acc: 0.7236\n",
      "Epoch 216/500\n",
      "55/55 [==============================] - 6s 114ms/step - loss: 1.7474 - acc: 0.9997 - val_loss: 2.1748 - val_acc: 0.7097\n",
      "Epoch 217/500\n",
      "55/55 [==============================] - 6s 111ms/step - loss: 1.7186 - acc: 1.0000 - val_loss: 2.1404 - val_acc: 0.7082\n",
      "Epoch 218/500\n",
      "55/55 [==============================] - 6s 109ms/step - loss: 1.6918 - acc: 1.0000 - val_loss: 2.1223 - val_acc: 0.7081\n",
      "Epoch 219/500\n",
      "55/55 [==============================] - 6s 113ms/step - loss: 1.6660 - acc: 1.0000 - val_loss: 2.0758 - val_acc: 0.7193\n",
      "Epoch 220/500\n",
      "55/55 [==============================] - 6s 110ms/step - loss: 1.6388 - acc: 1.0000 - val_loss: 2.0503 - val_acc: 0.7256\n",
      "Epoch 221/500\n",
      "55/55 [==============================] - 6s 109ms/step - loss: 1.6148 - acc: 1.0000 - val_loss: 2.0113 - val_acc: 0.7351\n",
      "Epoch 222/500\n",
      "55/55 [==============================] - 6s 107ms/step - loss: 1.5917 - acc: 1.0000 - val_loss: 2.0022 - val_acc: 0.7225\n",
      "Epoch 223/500\n",
      "55/55 [==============================] - 6s 113ms/step - loss: 1.5685 - acc: 1.0000 - val_loss: 1.9731 - val_acc: 0.7245\n",
      "Epoch 224/500\n",
      "55/55 [==============================] - 6s 109ms/step - loss: 1.5461 - acc: 0.9994 - val_loss: 1.9816 - val_acc: 0.7204\n",
      "Epoch 225/500\n",
      "55/55 [==============================] - 6s 111ms/step - loss: 1.5249 - acc: 0.9994 - val_loss: 1.9504 - val_acc: 0.7090\n",
      "Epoch 226/500\n",
      "55/55 [==============================] - 6s 110ms/step - loss: 1.5052 - acc: 1.0000 - val_loss: 1.9252 - val_acc: 0.7098\n",
      "Epoch 227/500\n",
      "55/55 [==============================] - 6s 111ms/step - loss: 1.4797 - acc: 1.0000 - val_loss: 1.8985 - val_acc: 0.7128\n",
      "Epoch 228/500\n",
      "55/55 [==============================] - 6s 110ms/step - loss: 1.4564 - acc: 1.0000 - val_loss: 1.8704 - val_acc: 0.7172\n",
      "Epoch 229/500\n",
      "55/55 [==============================] - 6s 108ms/step - loss: 1.4299 - acc: 1.0000 - val_loss: 1.8292 - val_acc: 0.7292\n",
      "Epoch 230/500\n",
      "55/55 [==============================] - 6s 110ms/step - loss: 1.4069 - acc: 1.0000 - val_loss: 1.8222 - val_acc: 0.7161\n",
      "Epoch 231/500\n",
      "55/55 [==============================] - 6s 111ms/step - loss: 1.3849 - acc: 1.0000 - val_loss: 1.8085 - val_acc: 0.7116\n",
      "Epoch 232/500\n",
      "55/55 [==============================] - 6s 110ms/step - loss: 1.3652 - acc: 1.0000 - val_loss: 1.7906 - val_acc: 0.7195\n",
      "Epoch 233/500\n",
      "55/55 [==============================] - 6s 110ms/step - loss: 1.3446 - acc: 1.0000 - val_loss: 1.7615 - val_acc: 0.7166\n",
      "Epoch 234/500\n",
      "55/55 [==============================] - 6s 109ms/step - loss: 1.3268 - acc: 1.0000 - val_loss: 1.7392 - val_acc: 0.7168\n",
      "Epoch 235/500\n",
      "55/55 [==============================] - 6s 112ms/step - loss: 1.3097 - acc: 0.9997 - val_loss: 1.7280 - val_acc: 0.7116\n",
      "Epoch 236/500\n",
      "55/55 [==============================] - 6s 111ms/step - loss: 1.2903 - acc: 0.9997 - val_loss: 1.7258 - val_acc: 0.7181\n",
      "Epoch 237/500\n",
      "55/55 [==============================] - 6s 112ms/step - loss: 1.2708 - acc: 1.0000 - val_loss: 1.6690 - val_acc: 0.7315\n",
      "Epoch 238/500\n",
      "55/55 [==============================] - 6s 113ms/step - loss: 1.2549 - acc: 0.9993 - val_loss: 1.6549 - val_acc: 0.7304\n",
      "Epoch 239/500\n",
      "55/55 [==============================] - 6s 108ms/step - loss: 1.2349 - acc: 1.0000 - val_loss: 1.6445 - val_acc: 0.7195\n",
      "Epoch 240/500\n",
      "55/55 [==============================] - 6s 111ms/step - loss: 1.2175 - acc: 1.0000 - val_loss: 1.6179 - val_acc: 0.7367\n",
      "Epoch 241/500\n",
      "55/55 [==============================] - 6s 111ms/step - loss: 1.1987 - acc: 1.0000 - val_loss: 1.6109 - val_acc: 0.7268\n",
      "Epoch 242/500\n",
      "55/55 [==============================] - 6s 112ms/step - loss: 1.1818 - acc: 1.0000 - val_loss: 1.6005 - val_acc: 0.7222\n"
     ]
    },
    {
     "name": "stdout",
     "output_type": "stream",
     "text": [
      "Epoch 243/500\n",
      "55/55 [==============================] - 6s 109ms/step - loss: 1.1658 - acc: 1.0000 - val_loss: 1.5949 - val_acc: 0.7282\n",
      "Epoch 244/500\n",
      "55/55 [==============================] - 6s 109ms/step - loss: 1.1518 - acc: 1.0000 - val_loss: 1.5778 - val_acc: 0.7076\n",
      "Epoch 245/500\n",
      "55/55 [==============================] - 6s 111ms/step - loss: 1.1368 - acc: 1.0000 - val_loss: 1.5633 - val_acc: 0.7141\n",
      "Epoch 246/500\n",
      "55/55 [==============================] - 6s 112ms/step - loss: 1.1206 - acc: 1.0000 - val_loss: 1.5364 - val_acc: 0.7122\n",
      "Epoch 247/500\n",
      "55/55 [==============================] - 6s 113ms/step - loss: 1.1062 - acc: 0.9997 - val_loss: 1.5259 - val_acc: 0.7175\n",
      "Epoch 248/500\n",
      "55/55 [==============================] - 6s 111ms/step - loss: 1.0898 - acc: 0.9997 - val_loss: 1.4739 - val_acc: 0.7321\n",
      "Epoch 249/500\n",
      "55/55 [==============================] - 6s 109ms/step - loss: 1.0759 - acc: 0.9997 - val_loss: 1.4699 - val_acc: 0.7365\n",
      "Epoch 250/500\n",
      "55/55 [==============================] - 6s 112ms/step - loss: 1.0603 - acc: 1.0000 - val_loss: 1.4627 - val_acc: 0.7262\n",
      "Epoch 251/500\n",
      "55/55 [==============================] - 6s 112ms/step - loss: 1.0452 - acc: 1.0000 - val_loss: 1.4574 - val_acc: 0.7196\n",
      "Epoch 252/500\n",
      "55/55 [==============================] - 6s 110ms/step - loss: 1.0290 - acc: 1.0000 - val_loss: 1.4670 - val_acc: 0.6978\n",
      "Epoch 253/500\n",
      "55/55 [==============================] - 6s 112ms/step - loss: 1.0160 - acc: 0.9997 - val_loss: 1.4274 - val_acc: 0.7151\n",
      "Epoch 254/500\n",
      "55/55 [==============================] - 6s 111ms/step - loss: 1.0028 - acc: 1.0000 - val_loss: 1.4260 - val_acc: 0.7128\n",
      "Epoch 255/500\n",
      "55/55 [==============================] - 6s 113ms/step - loss: 0.9912 - acc: 1.0000 - val_loss: 1.4221 - val_acc: 0.7059\n",
      "Epoch 256/500\n",
      "55/55 [==============================] - 6s 110ms/step - loss: 0.9790 - acc: 1.0000 - val_loss: 1.3847 - val_acc: 0.7210\n",
      "Epoch 257/500\n",
      "55/55 [==============================] - 6s 111ms/step - loss: 0.9682 - acc: 1.0000 - val_loss: 1.3828 - val_acc: 0.7166\n",
      "Epoch 258/500\n",
      "55/55 [==============================] - 6s 110ms/step - loss: 0.9563 - acc: 1.0000 - val_loss: 1.3682 - val_acc: 0.7242\n",
      "Epoch 259/500\n",
      "55/55 [==============================] - 6s 110ms/step - loss: 0.9448 - acc: 0.9997 - val_loss: 1.3587 - val_acc: 0.7140\n",
      "Epoch 260/500\n",
      "55/55 [==============================] - 6s 112ms/step - loss: 0.9349 - acc: 0.9997 - val_loss: 1.3480 - val_acc: 0.7216\n",
      "Epoch 261/500\n",
      "55/55 [==============================] - 6s 113ms/step - loss: 0.9244 - acc: 1.0000 - val_loss: 1.3609 - val_acc: 0.7029\n",
      "Epoch 262/500\n",
      "55/55 [==============================] - 6s 109ms/step - loss: 0.9156 - acc: 0.9993 - val_loss: 1.3175 - val_acc: 0.7282\n",
      "Epoch 263/500\n",
      "55/55 [==============================] - 6s 112ms/step - loss: 0.9043 - acc: 0.9994 - val_loss: 1.3049 - val_acc: 0.7256\n",
      "Epoch 264/500\n",
      "55/55 [==============================] - 6s 114ms/step - loss: 0.8863 - acc: 1.0000 - val_loss: 1.2783 - val_acc: 0.7427\n",
      "Epoch 265/500\n",
      "55/55 [==============================] - 6s 109ms/step - loss: 0.8762 - acc: 1.0000 - val_loss: 1.2845 - val_acc: 0.7287\n",
      "Epoch 266/500\n",
      "55/55 [==============================] - 6s 112ms/step - loss: 0.8661 - acc: 1.0000 - val_loss: 1.2886 - val_acc: 0.7072\n",
      "Epoch 267/500\n",
      "55/55 [==============================] - 6s 113ms/step - loss: 0.8580 - acc: 1.0000 - val_loss: 1.2581 - val_acc: 0.7364\n",
      "Epoch 268/500\n",
      "55/55 [==============================] - 6s 111ms/step - loss: 0.8490 - acc: 1.0000 - val_loss: 1.2506 - val_acc: 0.7331\n",
      "Epoch 269/500\n",
      "55/55 [==============================] - 6s 110ms/step - loss: 0.8392 - acc: 1.0000 - val_loss: 1.2495 - val_acc: 0.7233\n",
      "Epoch 270/500\n",
      "55/55 [==============================] - 6s 108ms/step - loss: 0.8367 - acc: 0.9997 - val_loss: 1.2766 - val_acc: 0.7150\n",
      "Epoch 271/500\n",
      "55/55 [==============================] - 6s 114ms/step - loss: 0.8299 - acc: 1.0000 - val_loss: 1.2397 - val_acc: 0.7188\n",
      "Epoch 272/500\n",
      "55/55 [==============================] - 6s 116ms/step - loss: 0.8200 - acc: 1.0000 - val_loss: 1.2283 - val_acc: 0.7207\n",
      "Epoch 273/500\n",
      "55/55 [==============================] - 6s 113ms/step - loss: 0.8111 - acc: 1.0000 - val_loss: 1.2081 - val_acc: 0.7310\n",
      "Epoch 274/500\n",
      "55/55 [==============================] - 6s 111ms/step - loss: 0.8007 - acc: 0.9997 - val_loss: 1.2184 - val_acc: 0.7153\n",
      "Epoch 275/500\n",
      "55/55 [==============================] - 6s 108ms/step - loss: 0.7887 - acc: 1.0000 - val_loss: 1.2049 - val_acc: 0.7288\n",
      "Epoch 276/500\n",
      "55/55 [==============================] - 6s 116ms/step - loss: 0.7802 - acc: 1.0000 - val_loss: 1.2058 - val_acc: 0.7159\n",
      "Epoch 277/500\n",
      "55/55 [==============================] - 6s 109ms/step - loss: 0.7723 - acc: 1.0000 - val_loss: 1.1659 - val_acc: 0.7474\n",
      "Epoch 278/500\n",
      "55/55 [==============================] - 6s 110ms/step - loss: 0.7655 - acc: 1.0000 - val_loss: 1.1714 - val_acc: 0.7362\n",
      "Epoch 279/500\n",
      "55/55 [==============================] - 6s 110ms/step - loss: 0.7594 - acc: 1.0000 - val_loss: 1.1698 - val_acc: 0.7358\n",
      "Epoch 280/500\n",
      "55/55 [==============================] - 6s 112ms/step - loss: 0.7506 - acc: 1.0000 - val_loss: 1.1809 - val_acc: 0.7018\n",
      "Epoch 281/500\n",
      "55/55 [==============================] - 6s 113ms/step - loss: 0.7477 - acc: 1.0000 - val_loss: 1.1546 - val_acc: 0.7308\n",
      "Epoch 282/500\n",
      "55/55 [==============================] - 7s 119ms/step - loss: 0.7384 - acc: 1.0000 - val_loss: 1.1569 - val_acc: 0.7201\n",
      "Epoch 283/500\n",
      "55/55 [==============================] - 6s 117ms/step - loss: 0.7340 - acc: 1.0000 - val_loss: 1.1472 - val_acc: 0.7216\n",
      "Epoch 284/500\n",
      "55/55 [==============================] - 6s 117ms/step - loss: 0.7272 - acc: 1.0000 - val_loss: 1.1455 - val_acc: 0.7260\n",
      "Epoch 285/500\n",
      "55/55 [==============================] - 6s 116ms/step - loss: 0.7257 - acc: 0.9997 - val_loss: 1.1874 - val_acc: 0.6929\n",
      "Epoch 286/500\n",
      "55/55 [==============================] - 6s 116ms/step - loss: 0.7175 - acc: 1.0000 - val_loss: 1.1147 - val_acc: 0.7351\n",
      "Epoch 287/500\n",
      "55/55 [==============================] - 7s 119ms/step - loss: 0.7145 - acc: 1.0000 - val_loss: 1.1240 - val_acc: 0.7265\n",
      "Epoch 288/500\n",
      "55/55 [==============================] - 7s 118ms/step - loss: 0.7050 - acc: 1.0000 - val_loss: 1.1229 - val_acc: 0.7247\n",
      "Epoch 289/500\n",
      "55/55 [==============================] - 6s 113ms/step - loss: 0.6966 - acc: 1.0000 - val_loss: 1.1172 - val_acc: 0.7263\n",
      "Epoch 290/500\n",
      "55/55 [==============================] - 6s 115ms/step - loss: 0.6904 - acc: 1.0000 - val_loss: 1.1139 - val_acc: 0.7346\n",
      "Epoch 291/500\n",
      "55/55 [==============================] - 6s 118ms/step - loss: 0.6863 - acc: 1.0000 - val_loss: 1.1095 - val_acc: 0.7298\n",
      "Epoch 292/500\n",
      "55/55 [==============================] - 7s 119ms/step - loss: 0.6823 - acc: 1.0000 - val_loss: 1.0807 - val_acc: 0.7366\n",
      "Epoch 293/500\n",
      "55/55 [==============================] - 6s 118ms/step - loss: 0.6779 - acc: 1.0000 - val_loss: 1.0741 - val_acc: 0.7210\n",
      "Epoch 294/500\n",
      "55/55 [==============================] - 6s 115ms/step - loss: 0.6757 - acc: 0.9997 - val_loss: 1.0886 - val_acc: 0.7311\n",
      "Epoch 295/500\n",
      "55/55 [==============================] - 6s 115ms/step - loss: 0.6686 - acc: 1.0000 - val_loss: 1.0829 - val_acc: 0.7296\n",
      "Epoch 296/500\n",
      "55/55 [==============================] - 6s 114ms/step - loss: 0.6662 - acc: 1.0000 - val_loss: 1.0628 - val_acc: 0.7370\n",
      "Epoch 297/500\n",
      "55/55 [==============================] - 6s 118ms/step - loss: 0.6627 - acc: 1.0000 - val_loss: 1.0650 - val_acc: 0.7423\n",
      "Epoch 298/500\n",
      "55/55 [==============================] - 6s 112ms/step - loss: 0.6581 - acc: 1.0000 - val_loss: 1.0606 - val_acc: 0.7391\n",
      "Epoch 299/500\n",
      "55/55 [==============================] - 6s 116ms/step - loss: 0.6543 - acc: 1.0000 - val_loss: 1.0949 - val_acc: 0.7021\n",
      "Epoch 300/500\n",
      "55/55 [==============================] - 6s 115ms/step - loss: 0.6478 - acc: 1.0000 - val_loss: 1.0718 - val_acc: 0.7273\n",
      "Epoch 301/500\n",
      "55/55 [==============================] - 6s 114ms/step - loss: 0.6427 - acc: 1.0000 - val_loss: 1.0662 - val_acc: 0.7169\n",
      "Epoch 302/500\n",
      "55/55 [==============================] - 6s 116ms/step - loss: 0.6363 - acc: 1.0000 - val_loss: 1.0577 - val_acc: 0.7161\n",
      "Epoch 303/500\n",
      "55/55 [==============================] - 6s 117ms/step - loss: 0.6368 - acc: 0.9997 - val_loss: 1.0594 - val_acc: 0.7187\n"
     ]
    },
    {
     "name": "stdout",
     "output_type": "stream",
     "text": [
      "Epoch 304/500\n",
      "55/55 [==============================] - 6s 115ms/step - loss: 0.6304 - acc: 1.0000 - val_loss: 1.0437 - val_acc: 0.7347\n",
      "Epoch 305/500\n",
      "55/55 [==============================] - 6s 112ms/step - loss: 0.6314 - acc: 1.0000 - val_loss: 1.0074 - val_acc: 0.7500\n",
      "Epoch 306/500\n",
      "55/55 [==============================] - 6s 115ms/step - loss: 0.6277 - acc: 0.9994 - val_loss: 1.0255 - val_acc: 0.7210\n",
      "Epoch 307/500\n",
      "55/55 [==============================] - 6s 111ms/step - loss: 0.6257 - acc: 1.0000 - val_loss: 1.0437 - val_acc: 0.7178\n",
      "Epoch 308/500\n",
      "55/55 [==============================] - 6s 114ms/step - loss: 0.6198 - acc: 0.9994 - val_loss: 1.0496 - val_acc: 0.7150\n",
      "Epoch 309/500\n",
      "55/55 [==============================] - 6s 115ms/step - loss: 0.6164 - acc: 1.0000 - val_loss: 1.0414 - val_acc: 0.7213\n",
      "Epoch 310/500\n",
      "55/55 [==============================] - 6s 114ms/step - loss: 0.6134 - acc: 1.0000 - val_loss: 1.0250 - val_acc: 0.7313\n",
      "Epoch 311/500\n",
      "55/55 [==============================] - 6s 111ms/step - loss: 0.6105 - acc: 1.0000 - val_loss: 1.0293 - val_acc: 0.7307\n",
      "Epoch 312/500\n",
      "55/55 [==============================] - 7s 119ms/step - loss: 0.6077 - acc: 1.0000 - val_loss: 1.0055 - val_acc: 0.7465\n",
      "Epoch 313/500\n",
      "55/55 [==============================] - 6s 111ms/step - loss: 0.6031 - acc: 1.0000 - val_loss: 1.0069 - val_acc: 0.7282\n",
      "Epoch 314/500\n",
      "55/55 [==============================] - 6s 116ms/step - loss: 0.5990 - acc: 1.0000 - val_loss: 1.0032 - val_acc: 0.7381\n",
      "Epoch 315/500\n",
      "55/55 [==============================] - 6s 113ms/step - loss: 0.5974 - acc: 1.0000 - val_loss: 1.0185 - val_acc: 0.7166\n",
      "Epoch 316/500\n",
      "55/55 [==============================] - 6s 113ms/step - loss: 0.5927 - acc: 1.0000 - val_loss: 1.0127 - val_acc: 0.7328\n",
      "Epoch 317/500\n",
      "55/55 [==============================] - 6s 112ms/step - loss: 0.5923 - acc: 1.0000 - val_loss: 1.0119 - val_acc: 0.7277\n",
      "Epoch 318/500\n",
      "55/55 [==============================] - 6s 114ms/step - loss: 0.5885 - acc: 1.0000 - val_loss: 0.9913 - val_acc: 0.7398\n",
      "Epoch 319/500\n",
      "55/55 [==============================] - 6s 116ms/step - loss: 0.5870 - acc: 1.0000 - val_loss: 0.9995 - val_acc: 0.7372\n",
      "Epoch 320/500\n",
      "55/55 [==============================] - 6s 117ms/step - loss: 0.5855 - acc: 1.0000 - val_loss: 1.0179 - val_acc: 0.7299\n",
      "Epoch 321/500\n",
      "55/55 [==============================] - 6s 116ms/step - loss: 0.5868 - acc: 1.0000 - val_loss: 0.9988 - val_acc: 0.7455\n",
      "Epoch 322/500\n",
      "55/55 [==============================] - 6s 113ms/step - loss: 0.5817 - acc: 1.0000 - val_loss: 1.0033 - val_acc: 0.7268\n",
      "Epoch 323/500\n",
      "55/55 [==============================] - 6s 116ms/step - loss: 0.5773 - acc: 1.0000 - val_loss: 1.0072 - val_acc: 0.7204\n",
      "Epoch 324/500\n",
      "55/55 [==============================] - 6s 116ms/step - loss: 0.5770 - acc: 1.0000 - val_loss: 0.9977 - val_acc: 0.7331\n",
      "Epoch 325/500\n",
      "55/55 [==============================] - 6s 112ms/step - loss: 0.5728 - acc: 1.0000 - val_loss: 0.9628 - val_acc: 0.7457\n",
      "Epoch 326/500\n",
      "55/55 [==============================] - 6s 110ms/step - loss: 0.5697 - acc: 1.0000 - val_loss: 1.0126 - val_acc: 0.7177\n",
      "Epoch 327/500\n",
      "55/55 [==============================] - 6s 115ms/step - loss: 0.5715 - acc: 0.9994 - val_loss: 0.9804 - val_acc: 0.7245\n",
      "Epoch 328/500\n",
      "55/55 [==============================] - 6s 113ms/step - loss: 0.5691 - acc: 0.9994 - val_loss: 0.9851 - val_acc: 0.7471\n",
      "Epoch 329/500\n",
      "55/55 [==============================] - 6s 117ms/step - loss: 0.5696 - acc: 1.0000 - val_loss: 0.9970 - val_acc: 0.7224\n",
      "Epoch 330/500\n",
      "55/55 [==============================] - 6s 116ms/step - loss: 0.5675 - acc: 1.0000 - val_loss: 0.9976 - val_acc: 0.7224\n",
      "Epoch 331/500\n",
      "55/55 [==============================] - 6s 116ms/step - loss: 0.5658 - acc: 1.0000 - val_loss: 1.0118 - val_acc: 0.7072\n",
      "Epoch 332/500\n",
      "55/55 [==============================] - 6s 115ms/step - loss: 0.5628 - acc: 1.0000 - val_loss: 0.9669 - val_acc: 0.7307\n",
      "Epoch 333/500\n",
      "55/55 [==============================] - 6s 117ms/step - loss: 0.5629 - acc: 1.0000 - val_loss: 0.9724 - val_acc: 0.7447\n",
      "Epoch 334/500\n",
      "55/55 [==============================] - 6s 114ms/step - loss: 0.5579 - acc: 1.0000 - val_loss: 0.9888 - val_acc: 0.7227\n",
      "Epoch 335/500\n",
      "55/55 [==============================] - 6s 115ms/step - loss: 0.5565 - acc: 1.0000 - val_loss: 0.9919 - val_acc: 0.7193\n",
      "Epoch 336/500\n",
      "55/55 [==============================] - 6s 112ms/step - loss: 0.5534 - acc: 1.0000 - val_loss: 0.9882 - val_acc: 0.7274\n",
      "Epoch 337/500\n",
      "55/55 [==============================] - 6s 112ms/step - loss: 0.5519 - acc: 1.0000 - val_loss: 0.9687 - val_acc: 0.7325\n",
      "Epoch 338/500\n",
      "55/55 [==============================] - 6s 113ms/step - loss: 0.5519 - acc: 1.0000 - val_loss: 0.9601 - val_acc: 0.7379\n",
      "Epoch 339/500\n",
      "55/55 [==============================] - 6s 112ms/step - loss: 0.5503 - acc: 1.0000 - val_loss: 0.9697 - val_acc: 0.7294\n",
      "Epoch 340/500\n",
      "55/55 [==============================] - 6s 117ms/step - loss: 0.5515 - acc: 0.9997 - val_loss: 0.9942 - val_acc: 0.7105\n",
      "Epoch 341/500\n",
      "55/55 [==============================] - 6s 118ms/step - loss: 0.5496 - acc: 1.0000 - val_loss: 0.9607 - val_acc: 0.7303\n",
      "Epoch 342/500\n",
      "55/55 [==============================] - 7s 119ms/step - loss: 0.5464 - acc: 1.0000 - val_loss: 0.9456 - val_acc: 0.7397\n",
      "Epoch 343/500\n",
      "55/55 [==============================] - 6s 116ms/step - loss: 0.5471 - acc: 1.0000 - val_loss: 0.9879 - val_acc: 0.7281\n",
      "Epoch 344/500\n",
      "55/55 [==============================] - 6s 114ms/step - loss: 0.5466 - acc: 1.0000 - val_loss: 0.9563 - val_acc: 0.7349\n",
      "Epoch 345/500\n",
      "55/55 [==============================] - 6s 118ms/step - loss: 0.5430 - acc: 1.0000 - val_loss: 0.9522 - val_acc: 0.7321\n",
      "Epoch 346/500\n",
      "55/55 [==============================] - 7s 119ms/step - loss: 0.5416 - acc: 1.0000 - val_loss: 0.9721 - val_acc: 0.7181\n",
      "Epoch 347/500\n",
      "55/55 [==============================] - 6s 115ms/step - loss: 0.5399 - acc: 1.0000 - val_loss: 0.9689 - val_acc: 0.7230\n",
      "Epoch 348/500\n",
      "55/55 [==============================] - 6s 116ms/step - loss: 0.5368 - acc: 1.0000 - val_loss: 0.9722 - val_acc: 0.7162\n",
      "Epoch 349/500\n",
      "55/55 [==============================] - 6s 117ms/step - loss: 0.5353 - acc: 1.0000 - val_loss: 0.9573 - val_acc: 0.7242\n",
      "Epoch 350/500\n",
      "55/55 [==============================] - 6s 115ms/step - loss: 0.5334 - acc: 1.0000 - val_loss: 0.9661 - val_acc: 0.7245\n",
      "Epoch 351/500\n",
      "55/55 [==============================] - 6s 115ms/step - loss: 0.5317 - acc: 1.0000 - val_loss: 0.9385 - val_acc: 0.7319\n",
      "Epoch 352/500\n",
      "55/55 [==============================] - 6s 115ms/step - loss: 0.5323 - acc: 1.0000 - val_loss: 0.9339 - val_acc: 0.7421\n",
      "Epoch 353/500\n",
      "55/55 [==============================] - 6s 116ms/step - loss: 0.5297 - acc: 1.0000 - val_loss: 0.9388 - val_acc: 0.7364\n",
      "Epoch 354/500\n",
      "55/55 [==============================] - 6s 118ms/step - loss: 0.5290 - acc: 1.0000 - val_loss: 0.9398 - val_acc: 0.7419\n",
      "Epoch 355/500\n",
      "55/55 [==============================] - 6s 115ms/step - loss: 0.5306 - acc: 1.0000 - val_loss: 0.9428 - val_acc: 0.7358\n",
      "Epoch 356/500\n",
      "55/55 [==============================] - 6s 118ms/step - loss: 0.5278 - acc: 1.0000 - val_loss: 0.9511 - val_acc: 0.7236\n",
      "Epoch 357/500\n",
      "55/55 [==============================] - 6s 114ms/step - loss: 0.5280 - acc: 1.0000 - val_loss: 0.9830 - val_acc: 0.7100\n",
      "Epoch 358/500\n",
      "55/55 [==============================] - 6s 117ms/step - loss: 0.5262 - acc: 1.0000 - val_loss: 0.9357 - val_acc: 0.7397\n",
      "Epoch 359/500\n",
      "55/55 [==============================] - 6s 117ms/step - loss: 0.5269 - acc: 1.0000 - val_loss: 0.9456 - val_acc: 0.7307\n",
      "Epoch 360/500\n",
      "55/55 [==============================] - 6s 118ms/step - loss: 0.5235 - acc: 1.0000 - val_loss: 0.9585 - val_acc: 0.7201\n",
      "Epoch 361/500\n",
      "55/55 [==============================] - 6s 114ms/step - loss: 0.5219 - acc: 1.0000 - val_loss: 0.9307 - val_acc: 0.7328\n",
      "Epoch 362/500\n",
      "55/55 [==============================] - 6s 116ms/step - loss: 0.5213 - acc: 1.0000 - val_loss: 0.9335 - val_acc: 0.7411\n",
      "Epoch 363/500\n",
      "55/55 [==============================] - 6s 114ms/step - loss: 0.5187 - acc: 1.0000 - val_loss: 0.9449 - val_acc: 0.7272\n",
      "Epoch 364/500\n",
      "55/55 [==============================] - 6s 114ms/step - loss: 0.5178 - acc: 1.0000 - val_loss: 0.9464 - val_acc: 0.7216\n"
     ]
    },
    {
     "name": "stdout",
     "output_type": "stream",
     "text": [
      "Epoch 365/500\n",
      "55/55 [==============================] - 6s 114ms/step - loss: 0.5169 - acc: 1.0000 - val_loss: 0.9320 - val_acc: 0.7356\n",
      "Epoch 366/500\n",
      "55/55 [==============================] - 6s 117ms/step - loss: 0.5154 - acc: 1.0000 - val_loss: 0.9428 - val_acc: 0.7294\n",
      "Epoch 367/500\n",
      "55/55 [==============================] - 6s 118ms/step - loss: 0.5162 - acc: 1.0000 - val_loss: 0.9396 - val_acc: 0.7290\n",
      "Epoch 368/500\n",
      "55/55 [==============================] - 7s 122ms/step - loss: 0.5156 - acc: 0.9997 - val_loss: 0.9441 - val_acc: 0.7159\n",
      "Epoch 369/500\n",
      "55/55 [==============================] - 7s 123ms/step - loss: 0.5136 - acc: 1.0000 - val_loss: 0.9515 - val_acc: 0.7222\n",
      "Epoch 370/500\n",
      "55/55 [==============================] - 6s 116ms/step - loss: 0.5138 - acc: 1.0000 - val_loss: 0.9451 - val_acc: 0.7316\n",
      "Epoch 371/500\n",
      "55/55 [==============================] - 6s 117ms/step - loss: 0.5115 - acc: 1.0000 - val_loss: 0.9491 - val_acc: 0.7181\n",
      "Epoch 372/500\n",
      "55/55 [==============================] - 6s 114ms/step - loss: 0.5096 - acc: 1.0000 - val_loss: 0.9171 - val_acc: 0.7451\n",
      "Epoch 373/500\n",
      "55/55 [==============================] - 6s 118ms/step - loss: 0.5099 - acc: 1.0000 - val_loss: 0.9510 - val_acc: 0.7311\n",
      "Epoch 374/500\n",
      "55/55 [==============================] - 6s 115ms/step - loss: 0.5093 - acc: 0.9997 - val_loss: 0.9540 - val_acc: 0.7157\n",
      "Epoch 375/500\n",
      "55/55 [==============================] - 6s 115ms/step - loss: 0.5059 - acc: 1.0000 - val_loss: 0.9647 - val_acc: 0.7199\n",
      "Epoch 376/500\n",
      "55/55 [==============================] - 7s 118ms/step - loss: 0.5073 - acc: 1.0000 - val_loss: 0.9353 - val_acc: 0.7236\n",
      "Epoch 377/500\n",
      "55/55 [==============================] - 6s 116ms/step - loss: 0.5078 - acc: 0.9997 - val_loss: 0.9402 - val_acc: 0.7187\n",
      "Epoch 378/500\n",
      "55/55 [==============================] - 7s 119ms/step - loss: 0.5056 - acc: 1.0000 - val_loss: 0.9152 - val_acc: 0.7377\n",
      "Epoch 379/500\n",
      "55/55 [==============================] - 6s 112ms/step - loss: 0.5064 - acc: 1.0000 - val_loss: 0.9668 - val_acc: 0.7197\n",
      "Epoch 380/500\n",
      "55/55 [==============================] - 6s 116ms/step - loss: 0.5061 - acc: 1.0000 - val_loss: 0.9247 - val_acc: 0.7402\n",
      "Epoch 381/500\n",
      "55/55 [==============================] - 7s 122ms/step - loss: 0.5032 - acc: 1.0000 - val_loss: 0.9490 - val_acc: 0.7130\n",
      "Epoch 382/500\n",
      "55/55 [==============================] - 6s 116ms/step - loss: 0.5011 - acc: 1.0000 - val_loss: 0.9149 - val_acc: 0.7288\n",
      "Epoch 383/500\n",
      "55/55 [==============================] - 7s 121ms/step - loss: 0.5019 - acc: 1.0000 - val_loss: 0.9183 - val_acc: 0.7320\n",
      "Epoch 384/500\n",
      "55/55 [==============================] - 6s 115ms/step - loss: 0.4994 - acc: 1.0000 - val_loss: 0.9203 - val_acc: 0.7358\n",
      "Epoch 385/500\n",
      "55/55 [==============================] - 6s 115ms/step - loss: 0.4995 - acc: 1.0000 - val_loss: 0.9216 - val_acc: 0.7503\n",
      "Epoch 386/500\n",
      "55/55 [==============================] - 7s 120ms/step - loss: 0.4978 - acc: 1.0000 - val_loss: 0.9237 - val_acc: 0.7342\n",
      "Epoch 387/500\n",
      "55/55 [==============================] - 7s 120ms/step - loss: 0.4942 - acc: 1.0000 - val_loss: 0.9148 - val_acc: 0.7342\n",
      "Epoch 388/500\n",
      "55/55 [==============================] - 6s 116ms/step - loss: 0.4965 - acc: 1.0000 - val_loss: 0.9254 - val_acc: 0.7294\n",
      "Epoch 389/500\n",
      "55/55 [==============================] - 6s 117ms/step - loss: 0.5018 - acc: 0.9991 - val_loss: 0.9503 - val_acc: 0.7074\n",
      "Epoch 390/500\n",
      "55/55 [==============================] - 6s 116ms/step - loss: 0.4991 - acc: 0.9997 - val_loss: 0.9343 - val_acc: 0.7228\n",
      "Epoch 391/500\n",
      "55/55 [==============================] - 7s 122ms/step - loss: 0.5030 - acc: 0.9994 - val_loss: 0.9265 - val_acc: 0.7222\n",
      "Epoch 392/500\n",
      "55/55 [==============================] - 6s 118ms/step - loss: 0.4980 - acc: 1.0000 - val_loss: 0.9263 - val_acc: 0.7308\n",
      "Epoch 393/500\n",
      "55/55 [==============================] - 6s 118ms/step - loss: 0.4942 - acc: 1.0000 - val_loss: 0.9344 - val_acc: 0.7300\n",
      "Epoch 394/500\n",
      "55/55 [==============================] - 6s 118ms/step - loss: 0.4932 - acc: 1.0000 - val_loss: 0.8826 - val_acc: 0.7604\n",
      "Epoch 395/500\n",
      "55/55 [==============================] - 6s 111ms/step - loss: 0.4935 - acc: 1.0000 - val_loss: 0.9275 - val_acc: 0.7246\n",
      "Epoch 396/500\n",
      "55/55 [==============================] - 7s 119ms/step - loss: 0.4891 - acc: 1.0000 - val_loss: 0.9072 - val_acc: 0.7448\n",
      "Epoch 397/500\n",
      "55/55 [==============================] - 6s 115ms/step - loss: 0.4904 - acc: 1.0000 - val_loss: 0.9100 - val_acc: 0.7365\n",
      "Epoch 398/500\n",
      "55/55 [==============================] - 6s 118ms/step - loss: 0.4876 - acc: 1.0000 - val_loss: 0.9122 - val_acc: 0.7327\n",
      "Epoch 399/500\n",
      "55/55 [==============================] - 6s 116ms/step - loss: 0.4859 - acc: 1.0000 - val_loss: 0.9261 - val_acc: 0.7274\n",
      "Epoch 400/500\n",
      "55/55 [==============================] - 7s 118ms/step - loss: 0.4851 - acc: 1.0000 - val_loss: 0.9036 - val_acc: 0.7408\n",
      "Epoch 401/500\n",
      "55/55 [==============================] - 6s 116ms/step - loss: 0.4847 - acc: 1.0000 - val_loss: 0.9340 - val_acc: 0.7213\n",
      "Epoch 402/500\n",
      "55/55 [==============================] - 6s 118ms/step - loss: 0.4834 - acc: 1.0000 - val_loss: 0.8978 - val_acc: 0.7440\n",
      "Epoch 403/500\n",
      "55/55 [==============================] - 6s 113ms/step - loss: 0.4835 - acc: 1.0000 - val_loss: 0.9421 - val_acc: 0.7184\n",
      "Epoch 404/500\n",
      "55/55 [==============================] - 7s 122ms/step - loss: 0.4874 - acc: 0.9994 - val_loss: 0.9123 - val_acc: 0.7300\n",
      "Epoch 405/500\n",
      "55/55 [==============================] - 6s 114ms/step - loss: 0.4840 - acc: 1.0000 - val_loss: 0.9108 - val_acc: 0.7325\n",
      "Epoch 406/500\n",
      "55/55 [==============================] - 6s 114ms/step - loss: 0.4862 - acc: 1.0000 - val_loss: 0.9823 - val_acc: 0.6937\n",
      "Epoch 407/500\n",
      "55/55 [==============================] - 6s 113ms/step - loss: 0.4833 - acc: 1.0000 - val_loss: 0.8948 - val_acc: 0.7423\n",
      "Epoch 408/500\n",
      "55/55 [==============================] - 6s 116ms/step - loss: 0.4825 - acc: 1.0000 - val_loss: 0.9049 - val_acc: 0.7295\n",
      "Epoch 409/500\n",
      "55/55 [==============================] - 6s 113ms/step - loss: 0.4806 - acc: 1.0000 - val_loss: 0.9097 - val_acc: 0.7302\n",
      "Epoch 410/500\n",
      "55/55 [==============================] - 6s 111ms/step - loss: 0.4791 - acc: 1.0000 - val_loss: 0.8918 - val_acc: 0.7334\n",
      "Epoch 411/500\n",
      "55/55 [==============================] - 6s 116ms/step - loss: 0.4776 - acc: 1.0000 - val_loss: 0.8897 - val_acc: 0.7462\n",
      "Epoch 412/500\n",
      "55/55 [==============================] - 6s 116ms/step - loss: 0.4770 - acc: 1.0000 - val_loss: 0.9069 - val_acc: 0.7259\n",
      "Epoch 413/500\n",
      "55/55 [==============================] - 6s 113ms/step - loss: 0.4760 - acc: 1.0000 - val_loss: 0.9031 - val_acc: 0.7296\n",
      "Epoch 414/500\n",
      "55/55 [==============================] - 6s 113ms/step - loss: 0.4766 - acc: 1.0000 - val_loss: 0.9195 - val_acc: 0.7219\n",
      "Epoch 415/500\n",
      "55/55 [==============================] - 6s 113ms/step - loss: 0.4778 - acc: 1.0000 - val_loss: 0.9417 - val_acc: 0.7143\n",
      "Epoch 416/500\n",
      "55/55 [==============================] - 6s 111ms/step - loss: 0.4761 - acc: 1.0000 - val_loss: 0.9463 - val_acc: 0.7171\n",
      "Epoch 417/500\n",
      "55/55 [==============================] - 6s 112ms/step - loss: 0.4757 - acc: 1.0000 - val_loss: 0.8997 - val_acc: 0.7355\n",
      "Epoch 418/500\n",
      "55/55 [==============================] - 6s 113ms/step - loss: 0.4736 - acc: 1.0000 - val_loss: 0.9274 - val_acc: 0.7143\n",
      "Epoch 419/500\n",
      "55/55 [==============================] - 6s 117ms/step - loss: 0.4739 - acc: 1.0000 - val_loss: 0.9088 - val_acc: 0.7253\n",
      "Epoch 420/500\n",
      "55/55 [==============================] - 7s 119ms/step - loss: 0.4710 - acc: 1.0000 - val_loss: 0.9096 - val_acc: 0.7390\n",
      "Epoch 421/500\n",
      "55/55 [==============================] - 6s 111ms/step - loss: 0.4726 - acc: 1.0000 - val_loss: 0.8986 - val_acc: 0.7327\n",
      "Epoch 422/500\n",
      "55/55 [==============================] - 6s 112ms/step - loss: 0.4712 - acc: 1.0000 - val_loss: 0.8970 - val_acc: 0.7236\n",
      "Epoch 423/500\n",
      "55/55 [==============================] - 6s 114ms/step - loss: 0.4702 - acc: 1.0000 - val_loss: 0.9024 - val_acc: 0.7352\n",
      "Epoch 424/500\n",
      "55/55 [==============================] - 6s 115ms/step - loss: 0.4697 - acc: 1.0000 - val_loss: 0.9003 - val_acc: 0.7480\n",
      "Epoch 425/500\n",
      "55/55 [==============================] - 6s 112ms/step - loss: 0.4706 - acc: 1.0000 - val_loss: 0.8916 - val_acc: 0.7367\n"
     ]
    },
    {
     "name": "stdout",
     "output_type": "stream",
     "text": [
      "Epoch 426/500\n",
      "55/55 [==============================] - 6s 113ms/step - loss: 0.4681 - acc: 1.0000 - val_loss: 0.9122 - val_acc: 0.7213\n",
      "Epoch 427/500\n",
      "55/55 [==============================] - 6s 114ms/step - loss: 0.4676 - acc: 1.0000 - val_loss: 0.9355 - val_acc: 0.7210\n",
      "Epoch 428/500\n",
      "55/55 [==============================] - 6s 113ms/step - loss: 0.4683 - acc: 1.0000 - val_loss: 0.9002 - val_acc: 0.7351\n",
      "Epoch 429/500\n",
      "55/55 [==============================] - 6s 115ms/step - loss: 0.4655 - acc: 1.0000 - val_loss: 0.9156 - val_acc: 0.7321\n",
      "Epoch 430/500\n",
      "55/55 [==============================] - 6s 112ms/step - loss: 0.4646 - acc: 1.0000 - val_loss: 0.9125 - val_acc: 0.7293\n",
      "Epoch 431/500\n",
      "55/55 [==============================] - 6s 113ms/step - loss: 0.4637 - acc: 1.0000 - val_loss: 0.8888 - val_acc: 0.7390\n",
      "Epoch 432/500\n",
      "55/55 [==============================] - 6s 115ms/step - loss: 0.4637 - acc: 1.0000 - val_loss: 0.8968 - val_acc: 0.7314\n",
      "Epoch 433/500\n",
      "55/55 [==============================] - 6s 113ms/step - loss: 0.4622 - acc: 1.0000 - val_loss: 0.8805 - val_acc: 0.7477\n",
      "Epoch 434/500\n",
      "55/55 [==============================] - 6s 112ms/step - loss: 0.4623 - acc: 1.0000 - val_loss: 0.8946 - val_acc: 0.7405\n",
      "Epoch 435/500\n",
      "55/55 [==============================] - 6s 114ms/step - loss: 0.4615 - acc: 1.0000 - val_loss: 0.8883 - val_acc: 0.7386\n",
      "Epoch 436/500\n",
      "55/55 [==============================] - 6s 112ms/step - loss: 0.4607 - acc: 1.0000 - val_loss: 0.8975 - val_acc: 0.7339\n",
      "Epoch 437/500\n",
      "55/55 [==============================] - 6s 115ms/step - loss: 0.4592 - acc: 1.0000 - val_loss: 0.9101 - val_acc: 0.7253\n",
      "Epoch 438/500\n",
      "55/55 [==============================] - 6s 113ms/step - loss: 0.4602 - acc: 1.0000 - val_loss: 0.8819 - val_acc: 0.7352\n",
      "Epoch 439/500\n",
      "55/55 [==============================] - 6s 118ms/step - loss: 0.4616 - acc: 1.0000 - val_loss: 0.9488 - val_acc: 0.6952\n",
      "Epoch 440/500\n",
      "55/55 [==============================] - 6s 116ms/step - loss: 0.4603 - acc: 1.0000 - val_loss: 0.9265 - val_acc: 0.7126\n",
      "Epoch 441/500\n",
      "55/55 [==============================] - 6s 117ms/step - loss: 0.4595 - acc: 1.0000 - val_loss: 0.9165 - val_acc: 0.7192\n",
      "Epoch 442/500\n",
      "55/55 [==============================] - 6s 117ms/step - loss: 0.4575 - acc: 1.0000 - val_loss: 0.9073 - val_acc: 0.7222\n",
      "Epoch 443/500\n",
      "55/55 [==============================] - 7s 119ms/step - loss: 0.4561 - acc: 1.0000 - val_loss: 0.8928 - val_acc: 0.7384\n",
      "Epoch 444/500\n",
      "55/55 [==============================] - 6s 116ms/step - loss: 0.4621 - acc: 0.9997 - val_loss: 0.9215 - val_acc: 0.7039\n",
      "Epoch 445/500\n",
      "55/55 [==============================] - 7s 126ms/step - loss: 0.4603 - acc: 1.0000 - val_loss: 0.8723 - val_acc: 0.7425\n",
      "Epoch 446/500\n",
      "55/55 [==============================] - 6s 113ms/step - loss: 0.4562 - acc: 1.0000 - val_loss: 0.8694 - val_acc: 0.7421\n",
      "Epoch 447/500\n",
      "55/55 [==============================] - 6s 114ms/step - loss: 0.4565 - acc: 1.0000 - val_loss: 0.8714 - val_acc: 0.7448\n",
      "Epoch 448/500\n",
      "55/55 [==============================] - 6s 111ms/step - loss: 0.4557 - acc: 1.0000 - val_loss: 0.8867 - val_acc: 0.7355\n",
      "Epoch 449/500\n",
      "55/55 [==============================] - 6s 116ms/step - loss: 0.4570 - acc: 1.0000 - val_loss: 0.8726 - val_acc: 0.7391\n",
      "Epoch 450/500\n",
      "55/55 [==============================] - 6s 112ms/step - loss: 0.4555 - acc: 1.0000 - val_loss: 0.8781 - val_acc: 0.7410\n",
      "Epoch 451/500\n",
      "55/55 [==============================] - 6s 114ms/step - loss: 0.4524 - acc: 1.0000 - val_loss: 0.8901 - val_acc: 0.7260\n",
      "Epoch 452/500\n",
      "55/55 [==============================] - 6s 113ms/step - loss: 0.4526 - acc: 1.0000 - val_loss: 0.8873 - val_acc: 0.7346\n",
      "Epoch 453/500\n",
      "55/55 [==============================] - 6s 113ms/step - loss: 0.4531 - acc: 1.0000 - val_loss: 0.9129 - val_acc: 0.7146\n",
      "Epoch 454/500\n",
      "55/55 [==============================] - 6s 114ms/step - loss: 0.4506 - acc: 1.0000 - val_loss: 0.8971 - val_acc: 0.7271\n",
      "Epoch 455/500\n",
      "55/55 [==============================] - 7s 118ms/step - loss: 0.4510 - acc: 1.0000 - val_loss: 0.9167 - val_acc: 0.7166\n",
      "Epoch 456/500\n",
      "55/55 [==============================] - 6s 113ms/step - loss: 0.4501 - acc: 1.0000 - val_loss: 0.8819 - val_acc: 0.7417\n",
      "Epoch 457/500\n",
      "55/55 [==============================] - 6s 117ms/step - loss: 0.4479 - acc: 1.0000 - val_loss: 0.8727 - val_acc: 0.7515\n",
      "Epoch 458/500\n",
      "55/55 [==============================] - 6s 117ms/step - loss: 0.4468 - acc: 1.0000 - val_loss: 0.8677 - val_acc: 0.7468\n",
      "Epoch 459/500\n",
      "55/55 [==============================] - 6s 114ms/step - loss: 0.4481 - acc: 1.0000 - val_loss: 0.8674 - val_acc: 0.7450\n",
      "Epoch 460/500\n",
      "55/55 [==============================] - 6s 117ms/step - loss: 0.4472 - acc: 1.0000 - val_loss: 0.8786 - val_acc: 0.7340\n",
      "Epoch 461/500\n",
      "55/55 [==============================] - 6s 116ms/step - loss: 0.4461 - acc: 1.0000 - val_loss: 0.9061 - val_acc: 0.7040\n",
      "Epoch 462/500\n",
      "55/55 [==============================] - 6s 117ms/step - loss: 0.4500 - acc: 0.9994 - val_loss: 0.8806 - val_acc: 0.7421\n",
      "Epoch 463/500\n",
      "55/55 [==============================] - 6s 112ms/step - loss: 0.4498 - acc: 0.9997 - val_loss: 0.8861 - val_acc: 0.7276\n",
      "Epoch 464/500\n",
      "55/55 [==============================] - 6s 117ms/step - loss: 0.4459 - acc: 1.0000 - val_loss: 0.8883 - val_acc: 0.7313\n",
      "Epoch 465/500\n",
      "55/55 [==============================] - 7s 119ms/step - loss: 0.4447 - acc: 1.0000 - val_loss: 0.8763 - val_acc: 0.7391\n",
      "Epoch 466/500\n",
      "55/55 [==============================] - 6s 117ms/step - loss: 0.4446 - acc: 1.0000 - val_loss: 0.8985 - val_acc: 0.7175\n",
      "Epoch 467/500\n",
      "55/55 [==============================] - 6s 113ms/step - loss: 0.4419 - acc: 1.0000 - val_loss: 0.8697 - val_acc: 0.7404\n",
      "Epoch 468/500\n",
      "55/55 [==============================] - 6s 115ms/step - loss: 0.4404 - acc: 1.0000 - val_loss: 0.8913 - val_acc: 0.7247\n",
      "Epoch 469/500\n",
      "55/55 [==============================] - 6s 112ms/step - loss: 0.4398 - acc: 1.0000 - val_loss: 0.9054 - val_acc: 0.7128\n",
      "Epoch 470/500\n",
      "55/55 [==============================] - 6s 115ms/step - loss: 0.4395 - acc: 1.0000 - val_loss: 0.8784 - val_acc: 0.7320\n",
      "Epoch 471/500\n",
      "55/55 [==============================] - 6s 115ms/step - loss: 0.4396 - acc: 1.0000 - val_loss: 0.8837 - val_acc: 0.7346\n",
      "Epoch 472/500\n",
      "55/55 [==============================] - 6s 113ms/step - loss: 0.4389 - acc: 1.0000 - val_loss: 0.8815 - val_acc: 0.7356\n",
      "Epoch 473/500\n",
      "55/55 [==============================] - 6s 118ms/step - loss: 0.4391 - acc: 1.0000 - val_loss: 0.8735 - val_acc: 0.7409\n",
      "Epoch 474/500\n",
      "55/55 [==============================] - 6s 115ms/step - loss: 0.4395 - acc: 1.0000 - val_loss: 0.8856 - val_acc: 0.7346\n",
      "Epoch 475/500\n",
      "55/55 [==============================] - 6s 117ms/step - loss: 0.4382 - acc: 1.0000 - val_loss: 0.9006 - val_acc: 0.7181\n",
      "Epoch 476/500\n",
      "55/55 [==============================] - 6s 114ms/step - loss: 0.4391 - acc: 1.0000 - val_loss: 0.8764 - val_acc: 0.7329\n",
      "Epoch 477/500\n",
      "55/55 [==============================] - 6s 114ms/step - loss: 0.4374 - acc: 1.0000 - val_loss: 0.8877 - val_acc: 0.7172\n",
      "Epoch 478/500\n",
      "55/55 [==============================] - 7s 118ms/step - loss: 0.4364 - acc: 1.0000 - val_loss: 0.8875 - val_acc: 0.7189\n",
      "Epoch 479/500\n",
      "55/55 [==============================] - 6s 115ms/step - loss: 0.4362 - acc: 1.0000 - val_loss: 0.8867 - val_acc: 0.7296\n",
      "Epoch 480/500\n",
      "55/55 [==============================] - 6s 116ms/step - loss: 0.4365 - acc: 1.0000 - val_loss: 0.8862 - val_acc: 0.7369\n",
      "Epoch 481/500\n",
      "55/55 [==============================] - 6s 115ms/step - loss: 0.4352 - acc: 1.0000 - val_loss: 0.8639 - val_acc: 0.7397\n",
      "Epoch 482/500\n",
      "55/55 [==============================] - 6s 115ms/step - loss: 0.4326 - acc: 1.0000 - val_loss: 0.8459 - val_acc: 0.7547\n",
      "Epoch 483/500\n",
      "55/55 [==============================] - 6s 115ms/step - loss: 0.4358 - acc: 1.0000 - val_loss: 0.8668 - val_acc: 0.7450\n",
      "Epoch 484/500\n",
      "55/55 [==============================] - 6s 115ms/step - loss: 0.4355 - acc: 1.0000 - val_loss: 0.8650 - val_acc: 0.7359\n",
      "Epoch 485/500\n",
      "55/55 [==============================] - 6s 115ms/step - loss: 0.4334 - acc: 1.0000 - val_loss: 0.8803 - val_acc: 0.7311\n",
      "Epoch 486/500\n",
      "55/55 [==============================] - 6s 114ms/step - loss: 0.4335 - acc: 1.0000 - val_loss: 0.8878 - val_acc: 0.7351\n"
     ]
    },
    {
     "name": "stdout",
     "output_type": "stream",
     "text": [
      "Epoch 487/500\n",
      "55/55 [==============================] - 6s 115ms/step - loss: 0.4331 - acc: 1.0000 - val_loss: 0.8892 - val_acc: 0.7181\n",
      "Epoch 488/500\n",
      "55/55 [==============================] - 6s 112ms/step - loss: 0.4361 - acc: 0.9991 - val_loss: 0.8847 - val_acc: 0.7346\n",
      "Epoch 489/500\n",
      "55/55 [==============================] - 6s 116ms/step - loss: 0.4443 - acc: 0.9977 - val_loss: 0.8517 - val_acc: 0.7471\n",
      "Epoch 490/500\n",
      "55/55 [==============================] - 7s 121ms/step - loss: 0.4338 - acc: 1.0000 - val_loss: 0.8714 - val_acc: 0.7431\n",
      "Epoch 491/500\n",
      "55/55 [==============================] - 6s 114ms/step - loss: 0.4312 - acc: 1.0000 - val_loss: 0.8567 - val_acc: 0.7340\n",
      "Epoch 492/500\n",
      "55/55 [==============================] - 6s 115ms/step - loss: 0.4306 - acc: 1.0000 - val_loss: 0.8846 - val_acc: 0.7279\n",
      "Epoch 493/500\n",
      "55/55 [==============================] - 6s 113ms/step - loss: 0.4288 - acc: 1.0000 - val_loss: 0.8832 - val_acc: 0.7219\n",
      "Epoch 494/500\n",
      "55/55 [==============================] - 6s 114ms/step - loss: 0.4298 - acc: 1.0000 - val_loss: 0.8668 - val_acc: 0.7368\n",
      "Epoch 495/500\n",
      "55/55 [==============================] - 6s 116ms/step - loss: 0.4275 - acc: 1.0000 - val_loss: 0.8989 - val_acc: 0.7202\n",
      "Epoch 496/500\n",
      "55/55 [==============================] - 6s 114ms/step - loss: 0.4294 - acc: 1.0000 - val_loss: 0.8745 - val_acc: 0.7327\n",
      "Epoch 497/500\n",
      "55/55 [==============================] - 6s 115ms/step - loss: 0.4268 - acc: 1.0000 - val_loss: 0.8448 - val_acc: 0.7541\n",
      "Epoch 498/500\n",
      "55/55 [==============================] - 6s 114ms/step - loss: 0.4283 - acc: 1.0000 - val_loss: 0.8654 - val_acc: 0.7458\n",
      "Epoch 499/500\n",
      "55/55 [==============================] - 7s 119ms/step - loss: 0.4273 - acc: 1.0000 - val_loss: 0.8662 - val_acc: 0.7355\n",
      "Epoch 500/500\n",
      "55/55 [==============================] - 6s 117ms/step - loss: 0.4267 - acc: 1.0000 - val_loss: 0.8810 - val_acc: 0.7230\n"
     ]
    }
   ],
   "source": [
    "\n",
    "np.random.seed(0)\n",
    "\n",
    "regularization = 0.2;\n",
    "\n",
    "model3 = Sequential()\n",
    "model3.add(Conv2D(16, kernel_size=8, strides=2, activation='relu', input_shape=(input_size[0], input_size[1], 3),\n",
    "           kernel_regularizer=regularizers.l2(regularization)))\n",
    "model3.add(MaxPooling2D(pool_size=(2, 2)))\n",
    "model3.add(BatchNormalization())\n",
    "model3.add(Conv2D(32, kernel_size=4, strides=2, activation='relu', kernel_regularizer=regularizers.l2(regularization),padding='same'))\n",
    "model3.add(MaxPooling2D(pool_size=(2, 2)))\n",
    "model3.add(BatchNormalization())\n",
    "model3.add(Conv2D(64, kernel_size=4, strides=1, activation='relu', kernel_regularizer=regularizers.l2(regularization),padding='same'))\n",
    "model3.add(MaxPooling2D(pool_size=(2, 2)))\n",
    "model3.add(BatchNormalization())\n",
    "model3.add(Conv2D(64, kernel_size=4, strides=1, activation='relu', kernel_regularizer=regularizers.l2(regularization),padding='same'))\n",
    "model3.add(MaxPooling2D(pool_size=(2, 2)))\n",
    "model3.add(BatchNormalization())\n",
    "model3.add(Conv2D(128, kernel_size=2, strides=1, activation='relu', kernel_regularizer=regularizers.l2(regularization),padding='same'))\n",
    "model3.add(Flatten())\n",
    "model3.add(Dense(100, activation='relu', kernel_regularizer=regularizers.l2(regularization)))\n",
    "model3.add(Dense(2, activation='softmax', kernel_regularizer=regularizers.l2(regularization)))\n",
    "\n",
    "opt3 = keras.optimizers.Adam(lr=1e-5)\n",
    "model3.compile(optimizer=opt3, loss='categorical_crossentropy', metrics=['accuracy'])\n",
    "\n",
    "steps_per_epoch = np.ceil(len(train_generator.filenames) / train_generator.batch_size);\n",
    "history = model3.fit_generator(\n",
    "    train_generator,\n",
    "    steps_per_epoch=steps_per_epoch,\n",
    "    epochs=500,\n",
    "    shuffle=True,\n",
    "    use_multiprocessing=True,\n",
    "    workers=12,\n",
    "    validation_data=validation_generator,\n",
    "    validation_steps=steps_per_epoch)"
   ]
  },
  {
   "cell_type": "markdown",
   "metadata": {},
   "source": [
    "Create one figure with two axes. In one of them, plot the loss in the training and the validation datasets. In the other one, plot the accuracy in the training and validation datasets."
   ]
  },
  {
   "cell_type": "code",
   "execution_count": 34,
   "metadata": {},
   "outputs": [
    {
     "data": {
      "image/png": "[encoded data removed]",
      "text/plain": [
       "<Figure size 432x288 with 1 Axes>"
      ]
     },
     "metadata": {
      "needs_background": "light"
     },
     "output_type": "display_data"
    },
    {
     "data": {
      "image/png": "[encoded data removed]",
      "text/plain": [
       "<Figure size 432x288 with 1 Axes>"
      ]
     },
     "metadata": {
      "needs_background": "light"
     },
     "output_type": "display_data"
    }
   ],
   "source": [
    "plt.plot(history.history['loss'])\n",
    "plt.plot(history.history['val_loss'])\n",
    "plt.title('Loss over epochs')\n",
    "plt.ylabel('Cross entrpy loss')\n",
    "plt.xlabel('Epoch')\n",
    "plt.legend(['train', 'test'])\n",
    "plt.show()\n",
    "\n",
    "plt.plot(history.history['acc'])\n",
    "plt.plot(history.history['val_acc'])\n",
    "plt.title('Accuracy over epochs')\n",
    "plt.ylabel('Accuracy')\n",
    "plt.xlabel('Epoch')\n",
    "plt.legend(['train', 'test'])\n",
    "plt.show()"
   ]
  },
  {
   "cell_type": "markdown",
   "metadata": {},
   "source": [
    "[Save your model](https://keras.io/getting-started/faq/#how-can-i-save-a-keras-model) to disk as a HDF5 file (the architecture, weights and optimizer state). This is simply so you can use it again easily in the later parts of the notebook, without having to keep it in memory or re-training it. The actual `.h5` files you create are not relevant to your submission."
   ]
  },
  {
   "cell_type": "code",
   "execution_count": 44,
   "metadata": {},
   "outputs": [],
   "source": [
    "model3.save('my_model.h5')"
   ]
  },
  {
   "cell_type": "markdown",
   "metadata": {},
   "source": [
    "---\n",
    "## 5. Transfer Learning"
   ]
  },
  {
   "cell_type": "markdown",
   "metadata": {},
   "source": [
    "Now, instead of trying to come up with a good architecture for this task, we'll use the VGG16 architecture, but with the top layers removed (the fully connected + classification layers). We'll substitute them with a single fully connected layer, and a classification layer that makes sense for our problem.\n",
    "\n",
    "However, this model has a very high capacity, and will probably suffer a lot from overfitting if we try to train it from scratch, using only our small subset of data. Instead, we'll start the optimization with the weights obtained after training VGG16 on the ImageNet dataset.\n",
    "\n",
    "Start by loading the VGG16 model without the top layers, from the `applications` submodule from Keras. Make sure to also load the weights obtained from the ImageNet pretraining."
   ]
  },
  {
   "cell_type": "code",
   "execution_count": 68,
   "metadata": {},
   "outputs": [],
   "source": [
    "imagenet= keras.applications.vgg16.VGG16(include_top=False, weights='imagenet', input_shape=(224, 224, 3))"
   ]
  },
  {
   "cell_type": "markdown",
   "metadata": {},
   "source": [
    "Create a new model with the layers you want to add on top of VGG. The kernels and bias in these layers should be initialized randomly."
   ]
  },
  {
   "cell_type": "code",
   "execution_count": 69,
   "metadata": {},
   "outputs": [],
   "source": [
    "for layer in imagenet.layers:\n",
    "        layer.trainable = False\n",
    "        \n",
    "regularization = 0.1;\n",
    "        \n",
    "x = imagenet.output\n",
    "x = Flatten()(x)\n",
    "x = Dense(100, activation='relu', kernel_regularizer=regularizers.l2(regularization))(x)\n",
    "predictions = Dense(2, activation='softmax')(x)\n",
    "\n"
   ]
  },
  {
   "cell_type": "markdown",
   "metadata": {},
   "source": [
    "Now add the new model on top of VGG.\n",
    "\n",
    "Tip:\n",
    "- The VGG model you loaded from the `applications` submodule is from the [`Model`](https://keras.io/models/model/) class, not the `Sequential` class, so it doesn't have some methods you're used to (like `add`, for instance). It might be helpful to read [this introduction to the Model class](https://keras.io/getting-started/functional-api-guide/)."
   ]
  },
  {
   "cell_type": "code",
   "execution_count": 70,
   "metadata": {},
   "outputs": [],
   "source": [
    "transfer_model = Model(inputs=imagenet.input, outputs=predictions)"
   ]
  },
  {
   "cell_type": "markdown",
   "metadata": {},
   "source": [
    "### 5.1 Using VGG features"
   ]
  },
  {
   "cell_type": "markdown",
   "metadata": {},
   "source": [
    "Now we're almost ready to train the new model. However, since the top layers of this architecture are being initialized randomly, it's sometimes possible for them to generate large gradients that can wreck the pretraining of the bottom layers. To avoid this, freeze all the VGG layers in your architecture (i.e. signal to the optimizer that these should not be changed during optimization) by setting the `trainable` attribute of them to `False`."
   ]
  },
  {
   "cell_type": "code",
   "execution_count": null,
   "metadata": {},
   "outputs": [],
   "source": [
    "# YOUR CODE HERE"
   ]
  },
  {
   "cell_type": "markdown",
   "metadata": {},
   "source": [
    "Create the callbacks (if any) you would like to use, compile the model and train it."
   ]
  },
  {
   "cell_type": "code",
   "execution_count": 71,
   "metadata": {},
   "outputs": [
    {
     "name": "stdout",
     "output_type": "stream",
     "text": [
      "Epoch 1/10\n",
      "55/55 [==============================] - 59s 1s/step - loss: 5.0231 - acc: 0.7418 - val_loss: 4.1196 - val_acc: 0.7605\n",
      "Epoch 2/10\n",
      "55/55 [==============================] - 54s 984ms/step - loss: 2.9486 - acc: 0.9179 - val_loss: 3.3111 - val_acc: 0.8568\n",
      "Epoch 3/10\n",
      "55/55 [==============================] - 54s 986ms/step - loss: 2.4791 - acc: 0.9472 - val_loss: 3.2160 - val_acc: 0.8332\n",
      "Epoch 4/10\n",
      "55/55 [==============================] - 54s 977ms/step - loss: 2.4050 - acc: 0.9543 - val_loss: 3.0842 - val_acc: 0.8455\n",
      "Epoch 5/10\n",
      "19/55 [=========>....................] - ETA: 17s - loss: 2.3375 - acc: 0.9572"
     ]
    },
    {
     "name": "stderr",
     "output_type": "stream",
     "text": [
      "Process ForkPoolWorker-712:\n",
      "Process ForkPoolWorker-727:\n",
      "Process ForkPoolWorker-715:\n",
      "Process ForkPoolWorker-709:\n",
      "Process ForkPoolWorker-725:\n",
      "Process ForkPoolWorker-720:\n",
      "Process ForkPoolWorker-721:\n",
      "Process ForkPoolWorker-731:\n",
      "Process ForkPoolWorker-728:\n",
      "Process ForkPoolWorker-724:\n",
      "Process ForkPoolWorker-732:\n",
      "Process ForkPoolWorker-713:\n",
      "Process ForkPoolWorker-726:\n",
      "Process ForkPoolWorker-729:\n",
      "Process ForkPoolWorker-711:\n",
      "Process ForkPoolWorker-718:\n",
      "Process ForkPoolWorker-716:\n",
      "Process ForkPoolWorker-722:\n",
      "Process ForkPoolWorker-723:\n",
      "Process ForkPoolWorker-714:\n",
      "Process ForkPoolWorker-719:\n",
      "Process ForkPoolWorker-730:\n",
      "Process ForkPoolWorker-710:\n",
      "Traceback (most recent call last):\n",
      "Traceback (most recent call last):\n",
      "Traceback (most recent call last):\n",
      "  File \"/home/patrik/anaconda3/envs/dml/lib/python3.6/multiprocessing/process.py\", line 258, in _bootstrap\n",
      "    self.run()\n",
      "Traceback (most recent call last):\n",
      "Traceback (most recent call last):\n",
      "Traceback (most recent call last):\n",
      "Traceback (most recent call last):\n",
      "Traceback (most recent call last):\n",
      "Process ForkPoolWorker-717:\n",
      "Traceback (most recent call last):\n",
      "Traceback (most recent call last):\n",
      "  File \"/home/patrik/anaconda3/envs/dml/lib/python3.6/multiprocessing/queues.py\", line 334, in get\n",
      "    with self._rlock:\n",
      "Traceback (most recent call last):\n",
      "  File \"/home/patrik/anaconda3/envs/dml/lib/python3.6/multiprocessing/synchronize.py\", line 95, in __enter__\n",
      "    return self._semlock.__enter__()\n",
      "  File \"/home/patrik/anaconda3/envs/dml/lib/python3.6/multiprocessing/synchronize.py\", line 95, in __enter__\n",
      "    return self._semlock.__enter__()\n",
      "Traceback (most recent call last):\n",
      "Traceback (most recent call last):\n",
      "Traceback (most recent call last):\n",
      "Traceback (most recent call last):\n",
      "Traceback (most recent call last):\n",
      "Traceback (most recent call last):\n",
      "Traceback (most recent call last):\n",
      "Traceback (most recent call last):\n",
      "Traceback (most recent call last):\n",
      "  File \"/home/patrik/anaconda3/envs/dml/lib/python3.6/multiprocessing/process.py\", line 258, in _bootstrap\n",
      "    self.run()\n",
      "Traceback (most recent call last):\n",
      "  File \"/home/patrik/anaconda3/envs/dml/lib/python3.6/multiprocessing/process.py\", line 258, in _bootstrap\n",
      "    self.run()\n",
      "  File \"/home/patrik/anaconda3/envs/dml/lib/python3.6/multiprocessing/process.py\", line 258, in _bootstrap\n",
      "    self.run()\n",
      "Traceback (most recent call last):\n",
      "  File \"/home/patrik/anaconda3/envs/dml/lib/python3.6/multiprocessing/process.py\", line 258, in _bootstrap\n",
      "    self.run()\n",
      "  File \"/home/patrik/anaconda3/envs/dml/lib/python3.6/multiprocessing/process.py\", line 258, in _bootstrap\n",
      "    self.run()\n",
      "Traceback (most recent call last):\n",
      "  File \"/home/patrik/anaconda3/envs/dml/lib/python3.6/multiprocessing/process.py\", line 258, in _bootstrap\n",
      "    self.run()\n",
      "  File \"/home/patrik/anaconda3/envs/dml/lib/python3.6/multiprocessing/process.py\", line 93, in run\n",
      "    self._target(*self._args, **self._kwargs)\n",
      "  File \"/home/patrik/anaconda3/envs/dml/lib/python3.6/multiprocessing/process.py\", line 258, in _bootstrap\n",
      "    self.run()\n",
      "  File \"/home/patrik/anaconda3/envs/dml/lib/python3.6/multiprocessing/process.py\", line 258, in _bootstrap\n",
      "    self.run()\n",
      "Traceback (most recent call last):\n",
      "  File \"/home/patrik/anaconda3/envs/dml/lib/python3.6/multiprocessing/process.py\", line 258, in _bootstrap\n",
      "    self.run()\n",
      "  File \"/home/patrik/anaconda3/envs/dml/lib/python3.6/multiprocessing/process.py\", line 258, in _bootstrap\n",
      "    self.run()\n",
      "  File \"/home/patrik/anaconda3/envs/dml/lib/python3.6/multiprocessing/process.py\", line 258, in _bootstrap\n",
      "    self.run()\n",
      "  File \"/home/patrik/anaconda3/envs/dml/lib/python3.6/multiprocessing/process.py\", line 258, in _bootstrap\n",
      "    self.run()\n",
      "  File \"/home/patrik/anaconda3/envs/dml/lib/python3.6/multiprocessing/process.py\", line 258, in _bootstrap\n",
      "    self.run()\n",
      "  File \"/home/patrik/anaconda3/envs/dml/lib/python3.6/multiprocessing/process.py\", line 258, in _bootstrap\n",
      "    self.run()\n",
      "  File \"/home/patrik/anaconda3/envs/dml/lib/python3.6/multiprocessing/process.py\", line 258, in _bootstrap\n",
      "    self.run()\n",
      "  File \"/home/patrik/anaconda3/envs/dml/lib/python3.6/multiprocessing/process.py\", line 258, in _bootstrap\n",
      "    self.run()\n",
      "  File \"/home/patrik/anaconda3/envs/dml/lib/python3.6/multiprocessing/process.py\", line 258, in _bootstrap\n",
      "    self.run()\n",
      "  File \"/home/patrik/anaconda3/envs/dml/lib/python3.6/multiprocessing/process.py\", line 258, in _bootstrap\n",
      "    self.run()\n",
      "  File \"/home/patrik/anaconda3/envs/dml/lib/python3.6/multiprocessing/process.py\", line 93, in run\n",
      "    self._target(*self._args, **self._kwargs)\n",
      "  File \"/home/patrik/anaconda3/envs/dml/lib/python3.6/multiprocessing/process.py\", line 93, in run\n",
      "    self._target(*self._args, **self._kwargs)\n",
      "  File \"/home/patrik/anaconda3/envs/dml/lib/python3.6/multiprocessing/process.py\", line 93, in run\n",
      "    self._target(*self._args, **self._kwargs)\n",
      "  File \"/home/patrik/anaconda3/envs/dml/lib/python3.6/multiprocessing/process.py\", line 93, in run\n",
      "    self._target(*self._args, **self._kwargs)\n",
      "  File \"/home/patrik/anaconda3/envs/dml/lib/python3.6/multiprocessing/process.py\", line 258, in _bootstrap\n",
      "    self.run()\n",
      "  File \"/home/patrik/anaconda3/envs/dml/lib/python3.6/multiprocessing/process.py\", line 93, in run\n",
      "    self._target(*self._args, **self._kwargs)\n",
      "  File \"/home/patrik/anaconda3/envs/dml/lib/python3.6/multiprocessing/process.py\", line 258, in _bootstrap\n",
      "    self.run()\n",
      "  File \"/home/patrik/anaconda3/envs/dml/lib/python3.6/multiprocessing/process.py\", line 93, in run\n",
      "    self._target(*self._args, **self._kwargs)\n",
      "  File \"/home/patrik/anaconda3/envs/dml/lib/python3.6/multiprocessing/process.py\", line 93, in run\n",
      "    self._target(*self._args, **self._kwargs)\n",
      "  File \"/home/patrik/anaconda3/envs/dml/lib/python3.6/multiprocessing/process.py\", line 93, in run\n",
      "    self._target(*self._args, **self._kwargs)\n",
      "  File \"/home/patrik/anaconda3/envs/dml/lib/python3.6/multiprocessing/process.py\", line 93, in run\n",
      "    self._target(*self._args, **self._kwargs)\n",
      "  File \"/home/patrik/anaconda3/envs/dml/lib/python3.6/multiprocessing/process.py\", line 93, in run\n",
      "    self._target(*self._args, **self._kwargs)\n",
      "  File \"/home/patrik/anaconda3/envs/dml/lib/python3.6/multiprocessing/process.py\", line 93, in run\n",
      "    self._target(*self._args, **self._kwargs)\n",
      "  File \"/home/patrik/anaconda3/envs/dml/lib/python3.6/multiprocessing/process.py\", line 93, in run\n",
      "    self._target(*self._args, **self._kwargs)\n",
      "  File \"/home/patrik/anaconda3/envs/dml/lib/python3.6/multiprocessing/process.py\", line 93, in run\n",
      "    self._target(*self._args, **self._kwargs)\n",
      "  File \"/home/patrik/anaconda3/envs/dml/lib/python3.6/multiprocessing/pool.py\", line 108, in worker\n",
      "    task = get()\n",
      "  File \"/home/patrik/anaconda3/envs/dml/lib/python3.6/multiprocessing/process.py\", line 93, in run\n",
      "    self._target(*self._args, **self._kwargs)\n",
      "  File \"/home/patrik/anaconda3/envs/dml/lib/python3.6/multiprocessing/process.py\", line 93, in run\n",
      "    self._target(*self._args, **self._kwargs)\n",
      "  File \"/home/patrik/anaconda3/envs/dml/lib/python3.6/multiprocessing/process.py\", line 93, in run\n",
      "    self._target(*self._args, **self._kwargs)\n",
      "  File \"/home/patrik/anaconda3/envs/dml/lib/python3.6/multiprocessing/pool.py\", line 108, in worker\n",
      "    task = get()\n",
      "  File \"/home/patrik/anaconda3/envs/dml/lib/python3.6/multiprocessing/process.py\", line 93, in run\n",
      "    self._target(*self._args, **self._kwargs)\n",
      "  File \"/home/patrik/anaconda3/envs/dml/lib/python3.6/multiprocessing/pool.py\", line 108, in worker\n",
      "    task = get()\n",
      "  File \"/home/patrik/anaconda3/envs/dml/lib/python3.6/multiprocessing/pool.py\", line 108, in worker\n",
      "    task = get()\n",
      "  File \"/home/patrik/anaconda3/envs/dml/lib/python3.6/multiprocessing/pool.py\", line 108, in worker\n",
      "    task = get()\n",
      "  File \"/home/patrik/anaconda3/envs/dml/lib/python3.6/multiprocessing/pool.py\", line 108, in worker\n",
      "    task = get()\n",
      "  File \"/home/patrik/anaconda3/envs/dml/lib/python3.6/multiprocessing/pool.py\", line 108, in worker\n",
      "    task = get()\n",
      "  File \"/home/patrik/anaconda3/envs/dml/lib/python3.6/multiprocessing/process.py\", line 93, in run\n",
      "    self._target(*self._args, **self._kwargs)\n",
      "  File \"/home/patrik/anaconda3/envs/dml/lib/python3.6/multiprocessing/pool.py\", line 108, in worker\n",
      "    task = get()\n",
      "  File \"/home/patrik/anaconda3/envs/dml/lib/python3.6/multiprocessing/pool.py\", line 108, in worker\n",
      "    task = get()\n"
     ]
    },
    {
     "name": "stderr",
     "output_type": "stream",
     "text": [
      "  File \"/home/patrik/anaconda3/envs/dml/lib/python3.6/multiprocessing/pool.py\", line 108, in worker\n",
      "    task = get()\n",
      "  File \"/home/patrik/anaconda3/envs/dml/lib/python3.6/multiprocessing/pool.py\", line 108, in worker\n",
      "    task = get()\n",
      "  File \"/home/patrik/anaconda3/envs/dml/lib/python3.6/multiprocessing/pool.py\", line 108, in worker\n",
      "    task = get()\n",
      "  File \"/home/patrik/anaconda3/envs/dml/lib/python3.6/multiprocessing/queues.py\", line 335, in get\n",
      "    res = self._reader.recv_bytes()\n",
      "  File \"/home/patrik/anaconda3/envs/dml/lib/python3.6/multiprocessing/pool.py\", line 108, in worker\n",
      "    task = get()\n",
      "  File \"/home/patrik/anaconda3/envs/dml/lib/python3.6/multiprocessing/pool.py\", line 108, in worker\n",
      "    task = get()\n",
      "  File \"/home/patrik/anaconda3/envs/dml/lib/python3.6/multiprocessing/queues.py\", line 334, in get\n",
      "    with self._rlock:\n",
      "  File \"/home/patrik/anaconda3/envs/dml/lib/python3.6/multiprocessing/queues.py\", line 335, in get\n",
      "    res = self._reader.recv_bytes()\n",
      "  File \"/home/patrik/anaconda3/envs/dml/lib/python3.6/multiprocessing/queues.py\", line 334, in get\n",
      "    with self._rlock:\n",
      "  File \"/home/patrik/anaconda3/envs/dml/lib/python3.6/multiprocessing/process.py\", line 258, in _bootstrap\n",
      "    self.run()\n",
      "  File \"/home/patrik/anaconda3/envs/dml/lib/python3.6/multiprocessing/pool.py\", line 108, in worker\n",
      "    task = get()\n",
      "  File \"/home/patrik/anaconda3/envs/dml/lib/python3.6/multiprocessing/connection.py\", line 216, in recv_bytes\n",
      "    buf = self._recv_bytes(maxlength)\n",
      "  File \"/home/patrik/anaconda3/envs/dml/lib/python3.6/multiprocessing/pool.py\", line 108, in worker\n",
      "    task = get()\n",
      "  File \"/home/patrik/anaconda3/envs/dml/lib/python3.6/multiprocessing/queues.py\", line 334, in get\n",
      "    with self._rlock:\n",
      "  File \"/home/patrik/anaconda3/envs/dml/lib/python3.6/multiprocessing/queues.py\", line 334, in get\n",
      "    with self._rlock:\n",
      "  File \"/home/patrik/anaconda3/envs/dml/lib/python3.6/multiprocessing/queues.py\", line 334, in get\n",
      "    with self._rlock:\n",
      "  File \"/home/patrik/anaconda3/envs/dml/lib/python3.6/multiprocessing/connection.py\", line 216, in recv_bytes\n",
      "    buf = self._recv_bytes(maxlength)\n",
      "  File \"/home/patrik/anaconda3/envs/dml/lib/python3.6/multiprocessing/process.py\", line 93, in run\n",
      "    self._target(*self._args, **self._kwargs)\n",
      "  File \"/home/patrik/anaconda3/envs/dml/lib/python3.6/multiprocessing/pool.py\", line 108, in worker\n",
      "    task = get()\n",
      "  File \"/home/patrik/anaconda3/envs/dml/lib/python3.6/multiprocessing/process.py\", line 93, in run\n",
      "    self._target(*self._args, **self._kwargs)\n",
      "  File \"/home/patrik/anaconda3/envs/dml/lib/python3.6/multiprocessing/process.py\", line 93, in run\n",
      "    self._target(*self._args, **self._kwargs)\n",
      "  File \"/home/patrik/anaconda3/envs/dml/lib/python3.6/multiprocessing/process.py\", line 258, in _bootstrap\n",
      "    self.run()\n",
      "  File \"/home/patrik/anaconda3/envs/dml/lib/python3.6/multiprocessing/queues.py\", line 334, in get\n",
      "    with self._rlock:\n",
      "  File \"/home/patrik/anaconda3/envs/dml/lib/python3.6/multiprocessing/synchronize.py\", line 95, in __enter__\n",
      "    return self._semlock.__enter__()\n",
      "  File \"/home/patrik/anaconda3/envs/dml/lib/python3.6/multiprocessing/queues.py\", line 334, in get\n",
      "    with self._rlock:\n",
      "  File \"/home/patrik/anaconda3/envs/dml/lib/python3.6/multiprocessing/synchronize.py\", line 95, in __enter__\n",
      "    return self._semlock.__enter__()\n",
      "  File \"/home/patrik/anaconda3/envs/dml/lib/python3.6/multiprocessing/queues.py\", line 334, in get\n",
      "    with self._rlock:\n",
      "  File \"/home/patrik/anaconda3/envs/dml/lib/python3.6/multiprocessing/queues.py\", line 334, in get\n",
      "    with self._rlock:\n",
      "  File \"/home/patrik/anaconda3/envs/dml/lib/python3.6/multiprocessing/pool.py\", line 108, in worker\n",
      "    task = get()\n",
      "  File \"/home/patrik/anaconda3/envs/dml/lib/python3.6/multiprocessing/pool.py\", line 108, in worker\n",
      "    task = get()\n",
      "KeyboardInterrupt\n",
      "  File \"/home/patrik/anaconda3/envs/dml/lib/python3.6/multiprocessing/queues.py\", line 334, in get\n",
      "    with self._rlock:\n",
      "  File \"/home/patrik/anaconda3/envs/dml/lib/python3.6/multiprocessing/queues.py\", line 334, in get\n",
      "    with self._rlock:\n",
      "  File \"/home/patrik/anaconda3/envs/dml/lib/python3.6/multiprocessing/synchronize.py\", line 95, in __enter__\n",
      "    return self._semlock.__enter__()\n",
      "  File \"/home/patrik/anaconda3/envs/dml/lib/python3.6/multiprocessing/queues.py\", line 334, in get\n",
      "    with self._rlock:\n",
      "  File \"/home/patrik/anaconda3/envs/dml/lib/python3.6/multiprocessing/process.py\", line 93, in run\n",
      "    self._target(*self._args, **self._kwargs)\n",
      "  File \"/home/patrik/anaconda3/envs/dml/lib/python3.6/multiprocessing/queues.py\", line 334, in get\n",
      "    with self._rlock:\n",
      "KeyboardInterrupt\n",
      "  File \"/home/patrik/anaconda3/envs/dml/lib/python3.6/multiprocessing/synchronize.py\", line 95, in __enter__\n",
      "    return self._semlock.__enter__()\n",
      "  File \"/home/patrik/anaconda3/envs/dml/lib/python3.6/multiprocessing/pool.py\", line 108, in worker\n",
      "    task = get()\n",
      "  File \"/home/patrik/anaconda3/envs/dml/lib/python3.6/multiprocessing/connection.py\", line 407, in _recv_bytes\n",
      "    buf = self._recv(4)\n",
      "  File \"/home/patrik/anaconda3/envs/dml/lib/python3.6/multiprocessing/queues.py\", line 334, in get\n",
      "    with self._rlock:\n",
      "  File \"/home/patrik/anaconda3/envs/dml/lib/python3.6/multiprocessing/pool.py\", line 108, in worker\n",
      "    task = get()\n",
      "KeyboardInterrupt\n",
      "  File \"/home/patrik/anaconda3/envs/dml/lib/python3.6/multiprocessing/pool.py\", line 108, in worker\n",
      "    task = get()\n",
      "  File \"/home/patrik/anaconda3/envs/dml/lib/python3.6/multiprocessing/synchronize.py\", line 95, in __enter__\n",
      "    return self._semlock.__enter__()\n",
      "  File \"/home/patrik/anaconda3/envs/dml/lib/python3.6/multiprocessing/queues.py\", line 334, in get\n",
      "    with self._rlock:\n",
      "  File \"/home/patrik/anaconda3/envs/dml/lib/python3.6/multiprocessing/connection.py\", line 407, in _recv_bytes\n",
      "    buf = self._recv(4)\n",
      "  File \"/home/patrik/anaconda3/envs/dml/lib/python3.6/multiprocessing/pool.py\", line 108, in worker\n",
      "    task = get()\n",
      "  File \"/home/patrik/anaconda3/envs/dml/lib/python3.6/multiprocessing/synchronize.py\", line 95, in __enter__\n",
      "    return self._semlock.__enter__()\n",
      "  File \"/home/patrik/anaconda3/envs/dml/lib/python3.6/multiprocessing/synchronize.py\", line 95, in __enter__\n",
      "    return self._semlock.__enter__()\n",
      "KeyboardInterrupt\n",
      "  File \"/home/patrik/anaconda3/envs/dml/lib/python3.6/multiprocessing/process.py\", line 258, in _bootstrap\n",
      "    self.run()\n",
      "  File \"/home/patrik/anaconda3/envs/dml/lib/python3.6/multiprocessing/connection.py\", line 379, in _recv\n",
      "    chunk = read(handle, remaining)\n",
      "  File \"/home/patrik/anaconda3/envs/dml/lib/python3.6/multiprocessing/queues.py\", line 334, in get\n",
      "    with self._rlock:\n",
      "  File \"/home/patrik/anaconda3/envs/dml/lib/python3.6/multiprocessing/synchronize.py\", line 95, in __enter__\n",
      "    return self._semlock.__enter__()\n",
      "  File \"/home/patrik/anaconda3/envs/dml/lib/python3.6/multiprocessing/synchronize.py\", line 95, in __enter__\n",
      "    return self._semlock.__enter__()\n",
      "  File \"/home/patrik/anaconda3/envs/dml/lib/python3.6/multiprocessing/connection.py\", line 379, in _recv\n",
      "    chunk = read(handle, remaining)\n",
      "  File \"/home/patrik/anaconda3/envs/dml/lib/python3.6/multiprocessing/synchronize.py\", line 95, in __enter__\n",
      "    return self._semlock.__enter__()\n",
      "  File \"/home/patrik/anaconda3/envs/dml/lib/python3.6/multiprocessing/queues.py\", line 334, in get\n",
      "    with self._rlock:\n",
      "KeyboardInterrupt\n",
      "  File \"/home/patrik/anaconda3/envs/dml/lib/python3.6/multiprocessing/synchronize.py\", line 95, in __enter__\n",
      "    return self._semlock.__enter__()\n",
      "KeyboardInterrupt\n",
      "  File \"/home/patrik/anaconda3/envs/dml/lib/python3.6/multiprocessing/queues.py\", line 334, in get\n",
      "    with self._rlock:\n",
      "KeyboardInterrupt\n",
      "KeyboardInterrupt\n",
      "KeyboardInterrupt\n",
      "  File \"/home/patrik/anaconda3/envs/dml/lib/python3.6/multiprocessing/synchronize.py\", line 95, in __enter__\n",
      "    return self._semlock.__enter__()\n",
      "  File \"/home/patrik/anaconda3/envs/dml/lib/python3.6/multiprocessing/synchronize.py\", line 95, in __enter__\n",
      "    return self._semlock.__enter__()\n",
      "  File \"/home/patrik/anaconda3/envs/dml/lib/python3.6/multiprocessing/queues.py\", line 334, in get\n",
      "    with self._rlock:\n",
      "  File \"/home/patrik/anaconda3/envs/dml/lib/python3.6/multiprocessing/process.py\", line 93, in run\n",
      "    self._target(*self._args, **self._kwargs)\n"
     ]
    },
    {
     "name": "stderr",
     "output_type": "stream",
     "text": [
      "KeyboardInterrupt\n",
      "KeyboardInterrupt\n",
      "  File \"/home/patrik/anaconda3/envs/dml/lib/python3.6/multiprocessing/synchronize.py\", line 95, in __enter__\n",
      "    return self._semlock.__enter__()\n",
      "KeyboardInterrupt\n",
      "KeyboardInterrupt\n",
      "  File \"/home/patrik/anaconda3/envs/dml/lib/python3.6/multiprocessing/synchronize.py\", line 95, in __enter__\n",
      "    return self._semlock.__enter__()\n",
      "  File \"/home/patrik/anaconda3/envs/dml/lib/python3.6/multiprocessing/synchronize.py\", line 95, in __enter__\n",
      "    return self._semlock.__enter__()\n",
      "KeyboardInterrupt\n",
      "  File \"/home/patrik/anaconda3/envs/dml/lib/python3.6/multiprocessing/queues.py\", line 334, in get\n",
      "    with self._rlock:\n",
      "  File \"/home/patrik/anaconda3/envs/dml/lib/python3.6/multiprocessing/pool.py\", line 108, in worker\n",
      "    task = get()\n",
      "  File \"/home/patrik/anaconda3/envs/dml/lib/python3.6/multiprocessing/synchronize.py\", line 95, in __enter__\n",
      "    return self._semlock.__enter__()\n",
      "KeyboardInterrupt\n",
      "KeyboardInterrupt\n",
      "KeyboardInterrupt\n",
      "  File \"/home/patrik/anaconda3/envs/dml/lib/python3.6/multiprocessing/synchronize.py\", line 95, in __enter__\n",
      "    return self._semlock.__enter__()\n",
      "KeyboardInterrupt\n",
      "  File \"/home/patrik/anaconda3/envs/dml/lib/python3.6/multiprocessing/synchronize.py\", line 95, in __enter__\n",
      "    return self._semlock.__enter__()\n",
      "KeyboardInterrupt\n",
      "KeyboardInterrupt\n",
      "KeyboardInterrupt\n",
      "KeyboardInterrupt\n",
      "KeyboardInterrupt\n",
      "  File \"/home/patrik/anaconda3/envs/dml/lib/python3.6/multiprocessing/queues.py\", line 334, in get\n",
      "    with self._rlock:\n"
     ]
    },
    {
     "ename": "KeyboardInterrupt",
     "evalue": "",
     "output_type": "error",
     "traceback": [
      "\u001b[0;31m---------------------------------------------------------------------------\u001b[0m",
      "\u001b[0;31mKeyboardInterrupt\u001b[0m                         Traceback (most recent call last)",
      "\u001b[0;32m<ipython-input-71-43881eaef7c6>\u001b[0m in \u001b[0;36m<module>\u001b[0;34m\u001b[0m\n\u001b[1;32m     17\u001b[0m     \u001b[0mworkers\u001b[0m\u001b[0;34m=\u001b[0m\u001b[0;36m12\u001b[0m\u001b[0;34m,\u001b[0m\u001b[0;34m\u001b[0m\u001b[0;34m\u001b[0m\u001b[0m\n\u001b[1;32m     18\u001b[0m     \u001b[0mvalidation_data\u001b[0m\u001b[0;34m=\u001b[0m\u001b[0mvalidation_generator\u001b[0m\u001b[0;34m,\u001b[0m\u001b[0;34m\u001b[0m\u001b[0;34m\u001b[0m\u001b[0m\n\u001b[0;32m---> 19\u001b[0;31m     validation_steps=steps_per_epoch)\n\u001b[0m",
      "\u001b[0;32m~/anaconda3/envs/dml/lib/python3.6/site-packages/keras/legacy/interfaces.py\u001b[0m in \u001b[0;36mwrapper\u001b[0;34m(*args, **kwargs)\u001b[0m\n\u001b[1;32m     89\u001b[0m                 warnings.warn('Update your `' + object_name + '` call to the ' +\n\u001b[1;32m     90\u001b[0m                               'Keras 2 API: ' + signature, stacklevel=2)\n\u001b[0;32m---> 91\u001b[0;31m             \u001b[0;32mreturn\u001b[0m \u001b[0mfunc\u001b[0m\u001b[0;34m(\u001b[0m\u001b[0;34m*\u001b[0m\u001b[0margs\u001b[0m\u001b[0;34m,\u001b[0m \u001b[0;34m**\u001b[0m\u001b[0mkwargs\u001b[0m\u001b[0;34m)\u001b[0m\u001b[0;34m\u001b[0m\u001b[0;34m\u001b[0m\u001b[0m\n\u001b[0m\u001b[1;32m     92\u001b[0m         \u001b[0mwrapper\u001b[0m\u001b[0;34m.\u001b[0m\u001b[0m_original_function\u001b[0m \u001b[0;34m=\u001b[0m \u001b[0mfunc\u001b[0m\u001b[0;34m\u001b[0m\u001b[0;34m\u001b[0m\u001b[0m\n\u001b[1;32m     93\u001b[0m         \u001b[0;32mreturn\u001b[0m \u001b[0mwrapper\u001b[0m\u001b[0;34m\u001b[0m\u001b[0;34m\u001b[0m\u001b[0m\n",
      "\u001b[0;32m~/anaconda3/envs/dml/lib/python3.6/site-packages/keras/engine/training.py\u001b[0m in \u001b[0;36mfit_generator\u001b[0;34m(self, generator, steps_per_epoch, epochs, verbose, callbacks, validation_data, validation_steps, class_weight, max_queue_size, workers, use_multiprocessing, shuffle, initial_epoch)\u001b[0m\n\u001b[1;32m   1416\u001b[0m             \u001b[0muse_multiprocessing\u001b[0m\u001b[0;34m=\u001b[0m\u001b[0muse_multiprocessing\u001b[0m\u001b[0;34m,\u001b[0m\u001b[0;34m\u001b[0m\u001b[0;34m\u001b[0m\u001b[0m\n\u001b[1;32m   1417\u001b[0m             \u001b[0mshuffle\u001b[0m\u001b[0;34m=\u001b[0m\u001b[0mshuffle\u001b[0m\u001b[0;34m,\u001b[0m\u001b[0;34m\u001b[0m\u001b[0;34m\u001b[0m\u001b[0m\n\u001b[0;32m-> 1418\u001b[0;31m             initial_epoch=initial_epoch)\n\u001b[0m\u001b[1;32m   1419\u001b[0m \u001b[0;34m\u001b[0m\u001b[0m\n\u001b[1;32m   1420\u001b[0m     \u001b[0;34m@\u001b[0m\u001b[0minterfaces\u001b[0m\u001b[0;34m.\u001b[0m\u001b[0mlegacy_generator_methods_support\u001b[0m\u001b[0;34m\u001b[0m\u001b[0;34m\u001b[0m\u001b[0m\n",
      "\u001b[0;32m~/anaconda3/envs/dml/lib/python3.6/site-packages/keras/engine/training_generator.py\u001b[0m in \u001b[0;36mfit_generator\u001b[0;34m(model, generator, steps_per_epoch, epochs, verbose, callbacks, validation_data, validation_steps, class_weight, max_queue_size, workers, use_multiprocessing, shuffle, initial_epoch)\u001b[0m\n\u001b[1;32m    198\u001b[0m                                      str(generator_output))\n\u001b[1;32m    199\u001b[0m                 \u001b[0;31m# build batch logs\u001b[0m\u001b[0;34m\u001b[0m\u001b[0;34m\u001b[0m\u001b[0;34m\u001b[0m\u001b[0m\n\u001b[0;32m--> 200\u001b[0;31m                 \u001b[0mbatch_logs\u001b[0m \u001b[0;34m=\u001b[0m \u001b[0;34m{\u001b[0m\u001b[0;34m}\u001b[0m\u001b[0;34m\u001b[0m\u001b[0;34m\u001b[0m\u001b[0m\n\u001b[0m\u001b[1;32m    201\u001b[0m                 \u001b[0;32mif\u001b[0m \u001b[0mx\u001b[0m \u001b[0;32mis\u001b[0m \u001b[0;32mNone\u001b[0m \u001b[0;32mor\u001b[0m \u001b[0mlen\u001b[0m\u001b[0;34m(\u001b[0m\u001b[0mx\u001b[0m\u001b[0;34m)\u001b[0m \u001b[0;34m==\u001b[0m \u001b[0;36m0\u001b[0m\u001b[0;34m:\u001b[0m\u001b[0;34m\u001b[0m\u001b[0;34m\u001b[0m\u001b[0m\n\u001b[1;32m    202\u001b[0m                     \u001b[0;31m# Handle data tensors support when no input given\u001b[0m\u001b[0;34m\u001b[0m\u001b[0;34m\u001b[0m\u001b[0;34m\u001b[0m\u001b[0m\n",
      "\u001b[0;31mKeyboardInterrupt\u001b[0m: "
     ]
    },
    {
     "name": "stderr",
     "output_type": "stream",
     "text": [
      "  File \"/home/patrik/anaconda3/envs/dml/lib/python3.6/multiprocessing/synchronize.py\", line 95, in __enter__\n",
      "    return self._semlock.__enter__()\n",
      "KeyboardInterrupt\n"
     ]
    }
   ],
   "source": [
    "np.random.seed(0)\n",
    "\n",
    "opt4 = keras.optimizers.Adam(lr=1e-5, decay=1e-4)\n",
    "\n",
    "transfer_model.compile(optimizer=opt4,\n",
    "              loss='categorical_crossentropy',\n",
    "              metrics=['accuracy'])\n",
    "\n",
    "steps_per_epoch = np.ceil(len(train_generator.filenames) / train_generator.batch_size);\n",
    "\n",
    "history = transfer_model.fit_generator(\n",
    "    train_generator,\n",
    "    steps_per_epoch=steps_per_epoch,\n",
    "    epochs=10,\n",
    "    shuffle=True,\n",
    "    use_multiprocessing=True,\n",
    "    workers=12,\n",
    "    validation_data=validation_generator,\n",
    "    validation_steps=steps_per_epoch)"
   ]
  },
  {
   "cell_type": "markdown",
   "metadata": {},
   "source": [
    "Create one figure with two axes. In one of them, plot the loss in the training and the validation datasets. In the other one, plot the accuracy in the training and validation datasets."
   ]
  },
  {
   "cell_type": "code",
   "execution_count": 63,
   "metadata": {},
   "outputs": [
    {
     "data": {
      "image/png": "[encoded data removed]",
      "text/plain": [
       "<Figure size 432x288 with 1 Axes>"
      ]
     },
     "metadata": {
      "needs_background": "light"
     },
     "output_type": "display_data"
    },
    {
     "data": {
      "image/png": "[encoded data removed]",
      "text/plain": [
       "<Figure size 432x288 with 1 Axes>"
      ]
     },
     "metadata": {
      "needs_background": "light"
     },
     "output_type": "display_data"
    }
   ],
   "source": [
    "plt.plot(history.history['loss'])\n",
    "plt.plot(history.history['val_loss'])\n",
    "plt.title('Loss over epochs')\n",
    "plt.ylabel('Cross entrpy loss')\n",
    "plt.xlabel('Epoch')\n",
    "plt.legend(['train', 'test'])\n",
    "plt.show()\n",
    "\n",
    "plt.plot(history.history['acc'])\n",
    "plt.plot(history.history['val_acc'])\n",
    "plt.title('Accuracy over epochs')\n",
    "plt.ylabel('Accuracy')\n",
    "plt.xlabel('Epoch')\n",
    "plt.legend(['train', 'test'])\n",
    "plt.show()"
   ]
  },
  {
   "cell_type": "markdown",
   "metadata": {},
   "source": [
    "How does the model perform, compared to the model obtained in step 4? Create one plot with the training accuracy and another with the validation accuracy of the two scenarios."
   ]
  },
  {
   "cell_type": "code",
   "execution_count": null,
   "metadata": {},
   "outputs": [],
   "source": [
    "# YOUR CODE HERE"
   ]
  },
  {
   "cell_type": "markdown",
   "metadata": {},
   "source": [
    "Compare these results. Which approach worked best, starting from scratch or doing transfer learning? Explain how you evaluated this."
   ]
  },
  {
   "cell_type": "markdown",
   "metadata": {},
   "source": [
    "**Your answer:** (fill in here)"
   ]
  },
  {
   "cell_type": "markdown",
   "metadata": {},
   "source": [
    "What are the main differences between the ImageNet dataset and the Dogs vs Cats dataset we used?"
   ]
  },
  {
   "cell_type": "markdown",
   "metadata": {},
   "source": [
    "**Your answer:** (fill in here)"
   ]
  },
  {
   "cell_type": "markdown",
   "metadata": {},
   "source": [
    "Even though there are considerable differences between these datasets, why is it that transfer learning is still a good idea?"
   ]
  },
  {
   "cell_type": "markdown",
   "metadata": {},
   "source": [
    "**Your answer:** (fill in here)"
   ]
  },
  {
   "cell_type": "markdown",
   "metadata": {},
   "source": [
    "In which scenario would transfer learning be unsuitable?"
   ]
  },
  {
   "cell_type": "markdown",
   "metadata": {},
   "source": [
    "**Your answer:** (fill in here)"
   ]
  },
  {
   "cell_type": "markdown",
   "metadata": {},
   "source": [
    "Save the model to a HDF5 file."
   ]
  },
  {
   "cell_type": "code",
   "execution_count": null,
   "metadata": {},
   "outputs": [],
   "source": [
    "model.save('trans_learning_top_only.h5')"
   ]
  },
  {
   "cell_type": "markdown",
   "metadata": {},
   "source": [
    "### 5.2 Fine-tuning"
   ]
  },
  {
   "cell_type": "markdown",
   "metadata": {},
   "source": [
    "Now that we have a better starting point for the top layers, we can train the entire network. Unfreeze the bottom layers.\n",
    "\n",
    "Tip:\n",
    "- Always recompile your model after changing anything in it!"
   ]
  },
  {
   "cell_type": "code",
   "execution_count": null,
   "metadata": {},
   "outputs": [],
   "source": [
    "model = load_model('trans_learning_top_only.h5')\n",
    "\n",
    "# YOUR CODE HERE"
   ]
  },
  {
   "cell_type": "markdown",
   "metadata": {},
   "source": [
    "Create the callbacks (if any) you would like to use for this training here, compile the model, and train it.\n",
    "\n",
    "Tip:\n",
    "- Even though we do have a decent starting point for the optimization, it's still possible that a bad hyper-parameter choice wrecks the preinitialization. Make sure to use a small learning rate for this step."
   ]
  },
  {
   "cell_type": "code",
   "execution_count": null,
   "metadata": {},
   "outputs": [],
   "source": [
    "# YOUR CODE HERE"
   ]
  },
  {
   "cell_type": "markdown",
   "metadata": {},
   "source": [
    "How does the model perform, compared to the model trained with freezed layers? Create one plot with the training accuracy and another with the validation accuracy of the two scenarios."
   ]
  },
  {
   "cell_type": "code",
   "execution_count": null,
   "metadata": {},
   "outputs": [],
   "source": [
    "# YOUR CODE HERE"
   ]
  },
  {
   "cell_type": "markdown",
   "metadata": {},
   "source": [
    "Did the model's performance improve? Why (why not)?"
   ]
  },
  {
   "cell_type": "markdown",
   "metadata": {},
   "source": [
    "**Your answer:** (fill in here)"
   ]
  },
  {
   "cell_type": "markdown",
   "metadata": {},
   "source": [
    "Save the model to a HDF5 file."
   ]
  },
  {
   "cell_type": "code",
   "execution_count": null,
   "metadata": {},
   "outputs": [],
   "source": [
    "model.save('trans_learning_full.h5')"
   ]
  },
  {
   "cell_type": "markdown",
   "metadata": {},
   "source": [
    "### 5.3 Improving the top model (optional)"
   ]
  },
  {
   "cell_type": "markdown",
   "metadata": {},
   "source": [
    "Improve the architecture for the layers you add on top of VGG16. Try different ideas, and consider comparing them using tensorboard. When you're happy with one architecture, copy it in the cell below and train it here."
   ]
  },
  {
   "cell_type": "code",
   "execution_count": null,
   "metadata": {},
   "outputs": [],
   "source": [
    "# YOUR CODE HERE"
   ]
  },
  {
   "cell_type": "markdown",
   "metadata": {},
   "source": [
    "How does the model perform, compared to the model trained in step 5.2? Create one plot with the training accuracy and another with the validation accuracy of the two scenarios."
   ]
  },
  {
   "cell_type": "code",
   "execution_count": null,
   "metadata": {},
   "outputs": [],
   "source": [
    "# YOUR CODE HERE"
   ]
  },
  {
   "cell_type": "markdown",
   "metadata": {},
   "source": [
    "Save the model to a HDF5 file."
   ]
  },
  {
   "cell_type": "code",
   "execution_count": null,
   "metadata": {},
   "outputs": [],
   "source": [
    "model.save('best_trans_learning.h5')"
   ]
  },
  {
   "cell_type": "markdown",
   "metadata": {},
   "source": [
    "## 6. Final training"
   ]
  },
  {
   "cell_type": "markdown",
   "metadata": {},
   "source": [
    "Now we'll train the model that achieved the best performance so far using the entire dataset.\n",
    "\n",
    "**Note**: start the optimization with the weights you obtained training in the smaller subset, i.e. *not* from scratch."
   ]
  },
  {
   "cell_type": "markdown",
   "metadata": {},
   "source": [
    "First, create two new data generators, one for training samples and one for validation samples. This time, they'll load data from the folders for the entire dataset."
   ]
  },
  {
   "cell_type": "code",
   "execution_count": null,
   "metadata": {},
   "outputs": [],
   "source": [
    "model = load_model('trans_learning_full.h5')\n",
    "\n",
    "# YOUR CODE HERE"
   ]
  },
  {
   "cell_type": "markdown",
   "metadata": {},
   "source": [
    "Create the callbacks you would like to use and train your model. This optimization might take a long time, so TensorBoard is advised."
   ]
  },
  {
   "cell_type": "code",
   "execution_count": null,
   "metadata": {},
   "outputs": [],
   "source": [
    "# YOUR CODE HERE"
   ]
  },
  {
   "cell_type": "markdown",
   "metadata": {},
   "source": [
    "How does the model perform now when trained on the entire dataset, compared to when only trained on the smaller subset of data? Create one plot with the training accuracy and another with the validation accuracy of the two scenarios."
   ]
  },
  {
   "cell_type": "code",
   "execution_count": null,
   "metadata": {},
   "outputs": [],
   "source": [
    "# YOUR CODE HERE"
   ]
  },
  {
   "cell_type": "markdown",
   "metadata": {},
   "source": [
    "What can you conclude from these plots?"
   ]
  },
  {
   "cell_type": "markdown",
   "metadata": {},
   "source": [
    "**Your answer:** (fill in here)"
   ]
  },
  {
   "cell_type": "markdown",
   "metadata": {},
   "source": [
    "## 7. Evaluation on test set"
   ]
  },
  {
   "cell_type": "markdown",
   "metadata": {},
   "source": [
    "Now we'll evaluate your final model, obtained in step 6, on the test set. As mentioned before, the samples in the test set are not labeled, so we can't compute any performance metrics ourselves. Instead, we'll create a .csv file containing the predictions for each sample, and submit it to Kaggle for evaluation."
   ]
  },
  {
   "cell_type": "markdown",
   "metadata": {},
   "source": [
    "Compute the predictions for all samples in the test set according to your best model, and save it in a .csv file with the format expected by the competition.\n",
    "\n",
    "Tip:\n",
    "- There is a sample_submission file available for download in the same place where you downloaded the data from. Take a look at it to better understand what is the expected format here.\n",
    "\n",
    "Hints:\n",
    "- The Python module `os` has a `listdir` function, which returns the filenames of all files in a given path.\n",
    "- If you don't know how to create and write to files with Python, Google can help.\n",
    "- Keras has a submodule called `preprocessing.image`, with some handy functions (for instance `load_img` and `img_to_array`)"
   ]
  },
  {
   "cell_type": "code",
   "execution_count": null,
   "metadata": {},
   "outputs": [],
   "source": [
    "# YOUR CODE HERE"
   ]
  },
  {
   "cell_type": "markdown",
   "metadata": {},
   "source": [
    "Now that you created your submission file, submit it to Kaggle for evaluation. The [old competition](https://www.kaggle.com/c/dogs-vs-cats) does not allow submissions any more, so submit your file to the [new one](https://www.kaggle.com/c/dogs-vs-cats-redux-kernels-edition). Kaggle evaluates your submission according to your log-loss score. Which score did you obtain?"
   ]
  },
  {
   "cell_type": "markdown",
   "metadata": {},
   "source": [
    "**Your answer:** (fill in here)"
   ]
  },
  {
   "cell_type": "markdown",
   "metadata": {},
   "source": [
    "What was the username you used for this submission?"
   ]
  },
  {
   "cell_type": "markdown",
   "metadata": {},
   "source": [
    "**Your answer:** (fill in here)"
   ]
  }
 ],
 "metadata": {
  "@webio": {
   "lastCommId": "88f565e60cd948f586be949b58a1ad70",
   "lastKernelId": "90326df6-ff42-4e73-8117-3a0899d8e628"
  },
  "kernelspec": {
   "display_name": "Python 3",
   "language": "python",
   "name": "python3"
  },
  "language_info": {
   "codemirror_mode": {
    "name": "ipython",
    "version": 3
   },
   "file_extension": ".py",
   "mimetype": "text/x-python",
   "name": "python",
   "nbconvert_exporter": "python",
   "pygments_lexer": "ipython3",
   "version": "3.6.8"
  }
 },
 "nbformat": 4,
 "nbformat_minor": 2
}
